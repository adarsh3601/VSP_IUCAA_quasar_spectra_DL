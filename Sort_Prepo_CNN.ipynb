{
 "cells": [
  {
   "cell_type": "code",
   "execution_count": 6,
   "id": "90bacc7d",
   "metadata": {
    "scrolled": true
   },
   "outputs": [
    {
     "name": "stdout",
     "output_type": "stream",
     "text": [
      "ColDefs(\n",
      "    name = 'CORRECTED_NABS_WITH_ALL_QSO'; format = 'D'\n",
      "    name = 'CORRECTED_NABS_WITH_QSO_SN_GR_1'; format = 'D'\n",
      "    name = 'CORRECTED_NABS_WITH_QSO_SN_GR_2'; format = 'D'\n",
      "    name = 'DEC_QSO'; format = 'D'; unit = 'DEG'\n",
      "    name = 'DELTA_V_MGII_2796'; format = 'D'; unit = 'km/s'\n",
      "    name = 'DELTA_V_MGII_2803'; format = 'D'; unit = 'km/s'\n",
      "    name = 'EIGENSPEC_INDEX'; format = 'K'\n",
      "    name = 'ERR_DELTA_V_MGII_2796'; format = 'D'; unit = 'km/s'\n",
      "    name = 'ERR_DELTA_V_MGII_2803'; format = 'D'; unit = 'km/s'\n",
      "    name = 'ERR_FWHM_VDISP_MGII_2796'; format = 'D'; unit = 'km/s'\n",
      "    name = 'ERR_FWHM_VDISP_MGII_2803'; format = 'D'; unit = 'km/s'\n",
      "    name = 'ERR_REST_EW_MGII_2796'; format = 'D'; unit = 'Angstrom'\n",
      "    name = 'ERR_REST_EW_MGII_2803'; format = 'D'; unit = 'Angstrom'\n",
      "    name = 'FIBER_ID'; format = 'K'\n",
      "    name = 'FWHM_VDISP_MGII_2796'; format = 'D'; unit = 'km/s'\n",
      "    name = 'FWHM_VDISP_MGII_2803'; format = 'D'; unit = 'km/s'\n",
      "    name = 'MJD'; format = 'K'\n",
      "    name = 'PARENT_QSO_ID'; format = 'K'\n",
      "    name = 'PLATE'; format = 'K'\n",
      "    name = 'RA_QSO'; format = 'D'; unit = 'DEG'\n",
      "    name = 'REST_EW_MGII_2796'; format = 'D'; unit = 'Angstrom'\n",
      "    name = 'REST_EW_MGII_2803'; format = 'D'; unit = 'Angstrom'\n",
      "    name = 'SNR_2796'; format = 'D'\n",
      "    name = 'SNR_2803'; format = 'D'\n",
      "    name = 'SNR_QSO_MEDIAN'; format = 'D'\n",
      "    name = 'Z_ABS'; format = 'D'\n",
      "    name = 'Z_ABS_ERR'; format = 'D'\n",
      "    name = 'Z_QSO'; format = 'D'\n",
      ")\n"
     ]
    }
   ],
   "source": [
    "from astropy.io import fits\n",
    "hdul1 = fits.open('../SDSS_DR16_QSO_based_MgII_Absorber_Catalog.fits')\n",
    "print(hdul1[1].columns)\n"
   ]
  },
  {
   "cell_type": "code",
   "execution_count": 7,
   "id": "a1679f36",
   "metadata": {},
   "outputs": [
    {
     "name": "stdout",
     "output_type": "stream",
     "text": [
      "159524\n"
     ]
    }
   ],
   "source": [
    "\n",
    "Plate1 = hdul1[1].data['PLATE']\n",
    "Fiber1 = hdul1[1].data['FIBER_ID']\n",
    "MJD1 = hdul1[1].data['MJD']\n",
    "Zabs = hdul1[1].data['Z_ABS']\n",
    "Nabs = hdul1[1].data['CORRECTED_NABS_WITH_ALL_QSO']\n",
    "Zqso1 = hdul1[1].data['Z_QSO']\n",
    "Rew_2796 = hdul1[1].data['REST_EW_MGII_2796']\n",
    "err_Rew_2796 = hdul1[1].data['ERR_REST_EW_MGII_2796']\n",
    "Rew_2803 = hdul1[1].data['REST_EW_MGII_2803']\n",
    "err_Rew_2803 = hdul1[1].data['ERR_REST_EW_MGII_2803']\n",
    "print(len(MJD1))"
   ]
  },
  {
   "cell_type": "code",
   "execution_count": null,
   "id": "95e15f6e",
   "metadata": {},
   "outputs": [],
   "source": []
  },
  {
   "cell_type": "code",
   "execution_count": 8,
   "id": "2332c2f6",
   "metadata": {},
   "outputs": [],
   "source": [
    "k = 0\n",
    "Plate1 = list(Plate1)\n",
    "Fiber1 = list(Fiber1)\n",
    "for i in range(len(MJD1)):\n",
    "    if len(str(Plate1[i]))==3:\n",
    "        Plate1[i] = '0'+str(Plate1[i])\n",
    "    if len(str(Fiber1[i]))==3:\n",
    "        Fiber1[i] = '0'+str(Fiber1[i])\n",
    "    if len(str(Plate1[i]))==2:\n",
    "        Plate1[i] = '00'+str(Plate1[i])\n",
    "    if len(str(Fiber1[i]))==2:\n",
    "        Fiber1[i] = '00'+str(Fiber1[i])\n",
    "    if len(str(Plate1[i]))==1:\n",
    "        Plate1[i] = '000'+str(Plate1[i])\n",
    "    if len(str(Fiber1[i]))==1:\n",
    "        Fiber1[i] = '000'+str(Fiber1[i])\n"
   ]
  },
  {
   "cell_type": "code",
   "execution_count": 4,
   "id": "8e82a60f",
   "metadata": {},
   "outputs": [
    {
     "data": {
      "application/vnd.jupyter.widget-view+json": {
       "model_id": "e635087d57744a3fb80b96210b34d03a",
       "version_major": 2,
       "version_minor": 0
      },
      "text/plain": [
       "  0%|          | 0/159524 [00:00<?, ?it/s]"
      ]
     },
     "metadata": {},
     "output_type": "display_data"
    },
    {
     "name": "stdout",
     "output_type": "stream",
     "text": [
      "159524\n"
     ]
    }
   ],
   "source": [
    "from tqdm.auto import tqdm\n",
    "list_fits = []\n",
    "for i in tqdm(range(len(MJD1))):\n",
    "    list_fits.append('spec-'+str(Plate1[i])+ '-' +str(MJD1[i])+ '-'+str(Fiber1[i])+'.fits')\n",
    "print(len(list_fits))"
   ]
  },
  {
   "cell_type": "code",
   "execution_count": 10,
   "id": "996837d9",
   "metadata": {},
   "outputs": [
    {
     "name": "stdout",
     "output_type": "stream",
     "text": [
      "67971\n"
     ]
    }
   ],
   "source": [
    "import glob,os\n",
    "files = os.listdir('./Data/mg2')\n",
    "print(len(files))"
   ]
  },
  {
   "cell_type": "code",
   "execution_count": 13,
   "id": "cdbd656d",
   "metadata": {},
   "outputs": [
    {
     "name": "stdout",
     "output_type": "stream",
     "text": [
      "D:\\IUCAA\\CNN-DR16\\DATA\\non\n"
     ]
    }
   ],
   "source": [
    "cd ../non"
   ]
  },
  {
   "cell_type": "code",
   "execution_count": null,
   "id": "831714db",
   "metadata": {},
   "outputs": [],
   "source": [
    "import glob,os\n",
    "files2 = os.listdir('./Data/non')\n",
    "print(len(files2))"
   ]
  },
  {
   "cell_type": "code",
   "execution_count": 16,
   "id": "926b6782",
   "metadata": {},
   "outputs": [
    {
     "data": {
      "application/vnd.jupyter.widget-view+json": {
       "model_id": "194d28b5778d47269c9931b66517699c",
       "version_major": 2,
       "version_minor": 0
      },
      "text/plain": [
       "  0%|          | 0/67971 [00:00<?, ?it/s]"
      ]
     },
     "metadata": {},
     "output_type": "display_data"
    },
    {
     "name": "stdout",
     "output_type": "stream",
     "text": [
      "60207\n"
     ]
    }
   ],
   "source": [
    "import os\n",
    "n = 0\n",
    "k = []\n",
    "from tqdm.auto import tqdm\n",
    "for i in tqdm(files):\n",
    "    try:\n",
    "        os.remove(i)\n",
    "    except:\n",
    "        k.append(i)\n",
    "        n = n+1\n",
    "print(n)\n"
   ]
  },
  {
   "cell_type": "code",
   "execution_count": 5,
   "id": "4a250f59",
   "metadata": {},
   "outputs": [
    {
     "data": {
      "text/plain": [
       "'D:\\\\IUCAA\\\\CNN-DR16'"
      ]
     },
     "execution_count": 5,
     "metadata": {},
     "output_type": "execute_result"
    }
   ],
   "source": [
    "pwd"
   ]
  },
  {
   "cell_type": "code",
   "execution_count": 7,
   "id": "52259367",
   "metadata": {},
   "outputs": [
    {
     "data": {
      "application/vnd.jupyter.widget-view+json": {
       "model_id": "9568509de0c9418297e0eacc46395418",
       "version_major": 2,
       "version_minor": 0
      },
      "text/plain": [
       "  0%|          | 0/255991 [00:00<?, ?it/s]"
      ]
     },
     "metadata": {},
     "output_type": "display_data"
    },
    {
     "name": "stdout",
     "output_type": "stream",
     "text": [
      "79433\n"
     ]
    }
   ],
   "source": [
    "from tqdm.auto import tqdm\n",
    "import shutil\n",
    "files2= []\n",
    "k = 0\n",
    "for i in tqdm(files):\n",
    "    for j in list_fits:\n",
    "        if j == i :\n",
    "            k = k+1\n",
    "            #shutil.copy('../SDSS_SNR5/'+j , 'Data_mult/mg2/')\n",
    "            files2.append(j)\n",
    "print(k)\n"
   ]
  },
  {
   "cell_type": "code",
   "execution_count": 9,
   "id": "ca3b2b11",
   "metadata": {},
   "outputs": [
    {
     "data": {
      "text/plain": [
       "'D:\\\\IUCAA\\\\CNN-DR16'"
      ]
     },
     "execution_count": 9,
     "metadata": {},
     "output_type": "execute_result"
    }
   ],
   "source": [
    "pwd"
   ]
  },
  {
   "cell_type": "code",
   "execution_count": 10,
   "id": "bf078df7",
   "metadata": {},
   "outputs": [
    {
     "data": {
      "application/vnd.jupyter.widget-view+json": {
       "model_id": "418a10c5841c42deb76aa97903acb3d3",
       "version_major": 2,
       "version_minor": 0
      },
      "text/plain": [
       "  0%|          | 0/79433 [00:00<?, ?it/s]"
      ]
     },
     "metadata": {},
     "output_type": "display_data"
    }
   ],
   "source": [
    "\n",
    "for i in tqdm(files2):\n",
    "    shutil.copy('../SDSS_SNR5/'+i , 'Data_mult/mg2/')\n"
   ]
  },
  {
   "cell_type": "code",
   "execution_count": 9,
   "id": "b5c8bd4d",
   "metadata": {},
   "outputs": [
    {
     "data": {
      "text/plain": [
       "197723"
      ]
     },
     "execution_count": 9,
     "metadata": {},
     "output_type": "execute_result"
    }
   ],
   "source": [
    "files3 = list(set(files)-set(list_fits))\n",
    "len(files2)"
   ]
  },
  {
   "cell_type": "code",
   "execution_count": 10,
   "id": "27be9014",
   "metadata": {},
   "outputs": [
    {
     "data": {
      "application/vnd.jupyter.widget-view+json": {
       "model_id": "a82b3246cbf44050bf12b2557bf22c62",
       "version_major": 2,
       "version_minor": 0
      },
      "text/plain": [
       "  0%|          | 0/159524 [00:00<?, ?it/s]"
      ]
     },
     "metadata": {},
     "output_type": "display_data"
    },
    {
     "name": "stdout",
     "output_type": "stream",
     "text": [
      "0\n"
     ]
    }
   ],
   "source": [
    "k = 0\n",
    "for i in tqdm(files2[:len(list_fits)]):\n",
    "    shutil.copy('../SDSS_SNR5/'+i , 'Data/non/')\n"
   ]
  },
  {
   "cell_type": "code",
   "execution_count": 1,
   "id": "e7d78ab1",
   "metadata": {},
   "outputs": [
    {
     "name": "stdout",
     "output_type": "stream",
     "text": [
      "67971\n"
     ]
    }
   ],
   "source": [
    "import glob,os\n",
    "files1 = os.listdir('./Data/mg2')\n",
    "print(len(files1))"
   ]
  },
  {
   "cell_type": "code",
   "execution_count": 2,
   "id": "6192e486",
   "metadata": {},
   "outputs": [
    {
     "name": "stdout",
     "output_type": "stream",
     "text": [
      "151755\n"
     ]
    }
   ],
   "source": [
    "import glob,os\n",
    "files2 = os.listdir('./Data/non')\n",
    "print(len(files2))"
   ]
  },
  {
   "cell_type": "code",
   "execution_count": 3,
   "id": "952f96c9",
   "metadata": {},
   "outputs": [],
   "source": [
    "files3 = list(set(files2)-set(files1))"
   ]
  },
  {
   "cell_type": "code",
   "execution_count": 4,
   "id": "9055cb3a",
   "metadata": {},
   "outputs": [
    {
     "data": {
      "text/plain": [
       "151755"
      ]
     },
     "execution_count": 4,
     "metadata": {},
     "output_type": "execute_result"
    }
   ],
   "source": [
    "len(files3)"
   ]
  },
  {
   "cell_type": "code",
   "execution_count": 3,
   "id": "4622e5f6",
   "metadata": {},
   "outputs": [
    {
     "name": "stdout",
     "output_type": "stream",
     "text": [
      "84533\n"
     ]
    }
   ],
   "source": [
    "from astropy.io import fits\n",
    "hdul2 = fits.open('./Searched_Quasars_SDSS_DR7_107.fits')\n",
    "#print(hdul2[1].columns)\n",
    "Ra2 = hdul2[1].data['RA']\n",
    "DEC2 = hdul2[1].data['DEC']\n",
    "Plate2 = hdul2[1].data['PLATE']\n",
    "Fiber2 = hdul2[1].data['FIBER']\n",
    "MJD2 = hdul2[1].data['MJD']\n",
    "Zqso2 = hdul2[1].data['ZQSO']\n",
    "print(len(MJD2))"
   ]
  },
  {
   "cell_type": "markdown",
   "id": "c1a84965",
   "metadata": {},
   "source": [
    "# Removing narrow abosorbtion lines using criteria $ EW> 3*\\sigma_{EW}$  #"
   ]
  },
  {
   "cell_type": "code",
   "execution_count": 4,
   "id": "7cf5a843",
   "metadata": {
    "scrolled": true
   },
   "outputs": [
    {
     "data": {
      "application/vnd.jupyter.widget-view+json": {
       "model_id": "82b42d406b6d4ce3bd410e49b92020e4",
       "version_major": 2,
       "version_minor": 0
      },
      "text/plain": [
       "  0%|          | 0/26761 [00:00<?, ?it/s]"
      ]
     },
     "metadata": {},
     "output_type": "display_data"
    },
    {
     "name": "stdout",
     "output_type": "stream",
     "text": [
      "26761\n",
      "1780\n"
     ]
    }
   ],
   "source": [
    "from tqdm.auto import tqdm\n",
    "path = []\n",
    "discard = []\n",
    "for i in tqdm(range(len(MJD1))):\n",
    "    path.append('spec-'+str(Plate1[i])+ '-' +str(MJD1[i])+ '-'+str(Fiber1[i])+'.fits')\n",
    "    for j in range(len(Rew_2796[i])):\n",
    "        if Rew_2796[i][j] < 3*err_Rew_2796[i][j] and Rew_2803[i][j] < 3*err_Rew_2803[i][j]:\n",
    "                   name = 'spec-'+str(Plate1[i])+ '-' +str(MJD1[i])+ '-'+str(Fiber1[i])+'.fits'\n",
    "                   discard.append(name)\n",
    "\n",
    "print(len(path))\n",
    "print(len(discard))"
   ]
  },
  {
   "cell_type": "code",
   "execution_count": 5,
   "id": "249ed6fa",
   "metadata": {},
   "outputs": [
    {
     "name": "stdout",
     "output_type": "stream",
     "text": [
      "25010\n"
     ]
    }
   ],
   "source": [
    "ew_checked = list(set(path) - set(discard))\n",
    "print(len(ew_checked))"
   ]
  },
  {
   "cell_type": "code",
   "execution_count": 6,
   "id": "456f8dc1",
   "metadata": {},
   "outputs": [
    {
     "data": {
      "application/vnd.jupyter.widget-view+json": {
       "model_id": "149b348a01d149e88bab72c4a5a19eb7",
       "version_major": 2,
       "version_minor": 0
      },
      "text/plain": [
       "  0%|          | 0/25010 [00:00<?, ?it/s]"
      ]
     },
     "metadata": {},
     "output_type": "display_data"
    },
    {
     "name": "stdout",
     "output_type": "stream",
     "text": [
      "1085\n"
     ]
    }
   ],
   "source": [
    "import os\n",
    "fits_files = []\n",
    "list_dir = os.listdir('run1/mg2/')\n",
    "for i in tqdm(ew_checked):\n",
    "    for j in list_dir:\n",
    "        if i == j:\n",
    "            fits_files.append(j)\n",
    "            \n",
    "print(len(fits_files))"
   ]
  },
  {
   "cell_type": "code",
   "execution_count": 7,
   "id": "3e2d4555",
   "metadata": {},
   "outputs": [
    {
     "name": "stdout",
     "output_type": "stream",
     "text": [
      "1768\n",
      "1085\n"
     ]
    }
   ],
   "source": [
    "import glob\n",
    "files2 = os.listdir('run1/non/')\n",
    "print(len(files2))\n",
    "fits_files2 = files2[:len(fits_files)]\n",
    "print(len(fits_files2))"
   ]
  },
  {
   "cell_type": "code",
   "execution_count": 8,
   "id": "1218ebd2",
   "metadata": {},
   "outputs": [
    {
     "data": {
      "application/vnd.jupyter.widget-view+json": {
       "model_id": "59028110215f408b9c77023859f817d4",
       "version_major": 2,
       "version_minor": 0
      },
      "text/plain": [
       "  0%|          | 0/26761 [00:00<?, ?it/s]"
      ]
     },
     "metadata": {},
     "output_type": "display_data"
    },
    {
     "name": "stdout",
     "output_type": "stream",
     "text": [
      "1085\n"
     ]
    },
    {
     "data": {
      "application/vnd.jupyter.widget-view+json": {
       "model_id": "43514f30da06428ebd7d88726b47e307",
       "version_major": 2,
       "version_minor": 0
      },
      "text/plain": [
       "  0%|          | 0/84533 [00:00<?, ?it/s]"
      ]
     },
     "metadata": {},
     "output_type": "display_data"
    },
    {
     "name": "stdout",
     "output_type": "stream",
     "text": [
      "1085\n"
     ]
    }
   ],
   "source": [
    "list_Z_emi1 = []\n",
    "list_Z_emi2 = []\n",
    "\n",
    "for i in tqdm(range(len(MJD1))):\n",
    "    for j in fits_files:\n",
    "        if 'spec-'+str(Plate1[i])+ '-' +str(MJD1[i])+ '-'+str(Fiber1[i])+'.fits' == j :\n",
    "            list_Z_emi1.append(Zqso1[i])\n",
    "print(len(list_Z_emi1))\n",
    "            \n",
    "for i in tqdm(range(len(MJD2))):\n",
    "    for j in fits_files2:\n",
    "        if 'spec-'+str(Plate2[i])+ '-' +str(MJD2[i])+ '-'+str(Fiber2[i])+'.fits' == j :\n",
    "            list_Z_emi2.append(Zqso2[i])    \n",
    "print(len(list_Z_emi2))"
   ]
  },
  {
   "cell_type": "code",
   "execution_count": 9,
   "id": "766ad23b",
   "metadata": {},
   "outputs": [
    {
     "data": {
      "application/vnd.jupyter.widget-view+json": {
       "model_id": "b50b95eb7b524839991173d6ad31c85f",
       "version_major": 2,
       "version_minor": 0
      },
      "text/plain": [
       "  0%|          | 0/1085 [00:00<?, ?it/s]"
      ]
     },
     "metadata": {},
     "output_type": "display_data"
    },
    {
     "name": "stdout",
     "output_type": "stream",
     "text": [
      "1085 1085 0\n"
     ]
    }
   ],
   "source": [
    "from astropy.io import fits\n",
    "specs = []\n",
    "waves = []\n",
    "\n",
    "unchanged = 0\n",
    "\n",
    "for f in tqdm(range(len(fits_files))):\n",
    "    spectra = fits.open('run1/mg2/'+ fits_files[f] )\n",
    "    wave = 10**spectra[1].data['loglam']\n",
    "    spec = spectra[1].data['model']\n",
    "    if list_Z_emi1[f] <=1:\n",
    "        X,Y = [],[]\n",
    "        for i in range(spec.shape[0]):\n",
    "            if wave[i] > 4250 :\n",
    "                X.append(wave[i])\n",
    "                Y.append(spec[i])\n",
    "        specs.append(Y)\n",
    "        waves.append(X)\n",
    "    \n",
    "    elif 1< list_Z_emi1[f] <= 1.8:\n",
    "        X,Y = [],[]\n",
    "        for i in range(spec.shape[0]):\n",
    "            if wave[i] > 3100 :\n",
    "                X.append(wave[i])\n",
    "                Y.append(spec[i])\n",
    "        specs.append(Y)\n",
    "        waves.append(X)\n",
    "        \n",
    "    elif 1.8< list_Z_emi1[f] <= 2.8:\n",
    "        X,Y = [],[]\n",
    "        for i in range(spec.shape[0]):\n",
    "            if wave[i] > 2250 :\n",
    "                X.append(wave[i])\n",
    "                Y.append(spec[i])\n",
    "        specs.append(Y)\n",
    "        waves.append(X)\n",
    "        \n",
    "    elif 2.8< list_Z_emi1[f] <= 4.8:\n",
    "        X,Y = [],[]\n",
    "        for i in range(spec.shape[0]):\n",
    "            if wave[i] > 1500 :\n",
    "                X.append(wave[i])\n",
    "                Y.append(spec[i])\n",
    "        specs.append(Y)\n",
    "        waves.append(X)\n",
    "        \n",
    "    else:\n",
    "        unchanged +=1\n",
    "        specs.append(spec)\n",
    "        waves.append(wave)\n",
    "    \n",
    "print(len(specs), len(waves), unchanged)"
   ]
  },
  {
   "cell_type": "code",
   "execution_count": 10,
   "id": "d01103f0",
   "metadata": {},
   "outputs": [
    {
     "data": {
      "application/vnd.jupyter.widget-view+json": {
       "model_id": "3394b4d1275e436f9a4ccc87a4111e29",
       "version_major": 2,
       "version_minor": 0
      },
      "text/plain": [
       "  0%|          | 0/1085 [00:00<?, ?it/s]"
      ]
     },
     "metadata": {},
     "output_type": "display_data"
    },
    {
     "name": "stdout",
     "output_type": "stream",
     "text": [
      "1085 1085 0\n"
     ]
    }
   ],
   "source": [
    "from astropy.io import fits\n",
    "specs2 = []\n",
    "waves2 = []\n",
    "\n",
    "unchanged2 = 0\n",
    "\n",
    "for f in tqdm(range(len(fits_files2))):\n",
    "    spectra = fits.open('run1/non/'+ fits_files2[f] )\n",
    "    wave = 10**spectra[1].data['loglam']\n",
    "    spec = spectra[1].data['model']\n",
    "    if list_Z_emi1[f] <=1:\n",
    "        X,Y = [],[]\n",
    "        for i in range(spec.shape[0]):\n",
    "            if wave[i] > 4250 :\n",
    "                X.append(wave[i])\n",
    "                Y.append(spec[i])\n",
    "        specs2.append(Y)\n",
    "        waves2.append(X)\n",
    "    \n",
    "    elif 1< list_Z_emi1[f] <= 1.8:\n",
    "        X,Y = [],[]\n",
    "        for i in range(spec.shape[0]):\n",
    "            if wave[i] > 3100 :\n",
    "                X.append(wave[i])\n",
    "                Y.append(spec[i])\n",
    "        specs2.append(Y)\n",
    "        waves2.append(X)\n",
    "        \n",
    "    elif 1.8< list_Z_emi1[f] <= 2.8:\n",
    "        X,Y = [],[]\n",
    "        for i in range(spec.shape[0]):\n",
    "            if wave[i] > 2250 :\n",
    "                X.append(wave[i])\n",
    "                Y.append(spec[i])\n",
    "        specs2.append(Y)\n",
    "        waves2.append(X)\n",
    "        \n",
    "    elif 2.8< list_Z_emi1[f] <= 4.8:\n",
    "        X,Y = [],[]\n",
    "        for i in range(spec.shape[0]):\n",
    "            if wave[i] > 1500 :\n",
    "                X.append(wave[i])\n",
    "                Y.append(spec[i])\n",
    "        specs2.append(Y)\n",
    "        waves2.append(X)\n",
    "        \n",
    "    else:\n",
    "        unchanged2 +=1\n",
    "        specs2.append(spec)\n",
    "        waves2.append(wave)\n",
    "    \n",
    "print(len(specs2), len(waves2), unchanged2)"
   ]
  },
  {
   "cell_type": "code",
   "execution_count": 12,
   "id": "a2177795",
   "metadata": {},
   "outputs": [
    {
     "data": {
      "text/plain": [
       "[<matplotlib.lines.Line2D at 0x2b62a191be0>]"
      ]
     },
     "execution_count": 12,
     "metadata": {},
     "output_type": "execute_result"
    },
    {
     "data": {
      "image/png": "[encoded data removed]",
      "text/plain": [
       "<Figure size 432x288 with 1 Axes>"
      ]
     },
     "metadata": {
      "needs_background": "light"
     },
     "output_type": "display_data"
    }
   ],
   "source": [
    "\n",
    "from matplotlib import pyplot as plt\n",
    "plt.plot(specs[0])"
   ]
  },
  {
   "cell_type": "code",
   "execution_count": 13,
   "id": "538f7b70",
   "metadata": {},
   "outputs": [
    {
     "data": {
      "text/plain": [
       "[<matplotlib.lines.Line2D at 0x2b62c37b7f0>]"
      ]
     },
     "execution_count": 13,
     "metadata": {},
     "output_type": "execute_result"
    },
    {
     "data": {
      "image/png": "[encoded data removed]",
      "text/plain": [
       "<Figure size 432x288 with 1 Axes>"
      ]
     },
     "metadata": {
      "needs_background": "light"
     },
     "output_type": "display_data"
    }
   ],
   "source": [
    "\n",
    "from matplotlib import pyplot as plt\n",
    "plt.plot(specs2[0])"
   ]
  },
  {
   "cell_type": "code",
   "execution_count": 17,
   "id": "4534ade6",
   "metadata": {},
   "outputs": [
    {
     "data": {
      "application/vnd.jupyter.widget-view+json": {
       "model_id": "3dc16aaa4cc44f3991c574759ea0046b",
       "version_major": 2,
       "version_minor": 0
      },
      "text/plain": [
       "  0%|          | 0/2170 [00:00<?, ?it/s]"
      ]
     },
     "metadata": {},
     "output_type": "display_data"
    },
    {
     "name": "stdout",
     "output_type": "stream",
     "text": [
      "(2170, 3841)\n"
     ]
    }
   ],
   "source": [
    "from scipy.ndimage import interpolation\n",
    "import numpy as np\n",
    "specs_inter = []\n",
    "temp = specs + specs2\n",
    "\n",
    "for i in tqdm(temp):\n",
    "    x = np.array(i)\n",
    "    i = 3841\n",
    "    z = i / len(x)\n",
    "    x_int = interpolation.zoom(x,z)\n",
    "    #np.expand_dims(x_int, axis=0)\n",
    "    specs_inter.append(x_int)\n",
    "specs_inter = np.array(specs_inter)\n",
    "#specs_inter = np.expand_dims(specs_inter, axis=2)\n",
    "print(specs_inter.shape)"
   ]
  },
  {
   "cell_type": "code",
   "execution_count": 33,
   "id": "50bdab3c",
   "metadata": {},
   "outputs": [
    {
     "name": "stdout",
     "output_type": "stream",
     "text": [
      "(2170,)\n"
     ]
    }
   ],
   "source": [
    "y = np.array(list(np.ones(1085))+list(np.zeros(1085)))\n",
    "print(y.shape)"
   ]
  },
  {
   "cell_type": "code",
   "execution_count": null,
   "id": "a8669628",
   "metadata": {},
   "outputs": [],
   "source": []
  },
  {
   "cell_type": "code",
   "execution_count": 34,
   "id": "125e62b6",
   "metadata": {},
   "outputs": [
    {
     "name": "stdout",
     "output_type": "stream",
     "text": [
      "training data: 1736 1736\n",
      "testing data: 434 434\n"
     ]
    }
   ],
   "source": [
    "from sklearn.model_selection import train_test_split\n",
    "\n",
    "X_train, X_test, y_train, y_test = train_test_split(specs_inter, y, random_state=0, train_size = .8)\n",
    "print('training data:', len(X_train), len(y_train))\n",
    "print('testing data:', len(X_test), len(y_test))"
   ]
  },
  {
   "cell_type": "code",
   "execution_count": 28,
   "id": "08a431ad",
   "metadata": {},
   "outputs": [
    {
     "name": "stdout",
     "output_type": "stream",
     "text": [
      "Model: \"sequential_1\"\n",
      "_________________________________________________________________\n",
      " Layer (type)                Output Shape              Param #   \n",
      "=================================================================\n",
      " conv1d_5 (Conv1D)           (None, 3827, 96)          1536      \n",
      "                                                                 \n",
      " max_pooling1d_3 (MaxPooling  (None, 1275, 96)         0         \n",
      " 1D)                                                             \n",
      "                                                                 \n",
      " conv1d_6 (Conv1D)           (None, 1271, 256)         123136    \n",
      "                                                                 \n",
      " max_pooling1d_4 (MaxPooling  (None, 423, 256)         0         \n",
      " 1D)                                                             \n",
      "                                                                 \n",
      " dropout_1 (Dropout)         (None, 423, 256)          0         \n",
      "                                                                 \n",
      " conv1d_7 (Conv1D)           (None, 421, 384)          295296    \n",
      "                                                                 \n",
      " conv1d_8 (Conv1D)           (None, 419, 384)          442752    \n",
      "                                                                 \n",
      " conv1d_9 (Conv1D)           (None, 417, 256)          295168    \n",
      "                                                                 \n",
      " max_pooling1d_5 (MaxPooling  (None, 139, 256)         0         \n",
      " 1D)                                                             \n",
      "                                                                 \n",
      " flatten_1 (Flatten)         (None, 35584)             0         \n",
      "                                                                 \n",
      " dense_3 (Dense)             (None, 1024)              36439040  \n",
      "                                                                 \n",
      " dense_4 (Dense)             (None, 1024)              1049600   \n",
      "                                                                 \n",
      " dense_5 (Dense)             (None, 1)                 1025      \n",
      "                                                                 \n",
      "=================================================================\n",
      "Total params: 38,647,553\n",
      "Trainable params: 38,647,553\n",
      "Non-trainable params: 0\n",
      "_________________________________________________________________\n",
      "None\n"
     ]
    }
   ],
   "source": [
    "from tensorflow.keras.layers import Conv1D, MaxPooling1D, Dropout, Dense, Flatten\n",
    "from tensorflow.keras import Sequential\n",
    "\n",
    "model = Sequential()\n",
    "model.add(Conv1D(filters=96, kernel_size=15, activation='relu', input_shape=(3841,1)))\n",
    "model.add(MaxPooling1D(pool_size=3))\n",
    "model.add(Conv1D(filters=256, kernel_size=5, activation='relu'))\n",
    "model.add(MaxPooling1D(pool_size=3))\n",
    "model.add(Dropout(0.5))\n",
    "model.add(Conv1D(filters=384, kernel_size=3, activation='relu'))\n",
    "model.add(Conv1D(filters=384, kernel_size=3, activation='relu'))\n",
    "model.add(Conv1D(filters=256, kernel_size=3, activation='relu'))\n",
    "model.add(MaxPooling1D(pool_size=3))\n",
    "model.add(Flatten())\n",
    "model.add(Dense(1024, activation='relu'))\n",
    "model.add(Dense(1024, activation='relu'))\n",
    "model.add(Dense(1, activation='softmax'))\n",
    "print(model.summary())\n",
    "model.compile(loss='binary_crossentropy', optimizer='adam', metrics=['accuracy'])"
   ]
  },
  {
   "cell_type": "code",
   "execution_count": 29,
   "id": "7f0d6252",
   "metadata": {},
   "outputs": [
    {
     "name": "stdout",
     "output_type": "stream",
     "text": [
      "Epoch 1/20\n",
      "87/87 - 4s - loss: 0.8765 - accuracy: 0.4971 - 4s/epoch - 50ms/step\n",
      "Epoch 2/20\n",
      "87/87 - 3s - loss: 0.6933 - accuracy: 0.4971 - 3s/epoch - 37ms/step\n",
      "Epoch 3/20\n",
      "87/87 - 3s - loss: 0.6933 - accuracy: 0.4971 - 3s/epoch - 37ms/step\n",
      "Epoch 4/20\n",
      "87/87 - 3s - loss: 0.6932 - accuracy: 0.4971 - 3s/epoch - 37ms/step\n",
      "Epoch 5/20\n",
      "87/87 - 3s - loss: 0.6933 - accuracy: 0.4971 - 3s/epoch - 37ms/step\n",
      "Epoch 6/20\n",
      "87/87 - 3s - loss: 0.6932 - accuracy: 0.4971 - 3s/epoch - 37ms/step\n",
      "Epoch 7/20\n",
      "87/87 - 3s - loss: 0.6932 - accuracy: 0.4971 - 3s/epoch - 37ms/step\n",
      "Epoch 8/20\n",
      "87/87 - 3s - loss: 0.6932 - accuracy: 0.4971 - 3s/epoch - 37ms/step\n",
      "Epoch 9/20\n",
      "87/87 - 3s - loss: 0.6933 - accuracy: 0.4971 - 3s/epoch - 37ms/step\n",
      "Epoch 10/20\n",
      "87/87 - 3s - loss: 0.6932 - accuracy: 0.4971 - 3s/epoch - 37ms/step\n",
      "Epoch 11/20\n",
      "87/87 - 3s - loss: 0.6932 - accuracy: 0.4971 - 3s/epoch - 37ms/step\n",
      "Epoch 12/20\n",
      "87/87 - 3s - loss: 0.6933 - accuracy: 0.4971 - 3s/epoch - 37ms/step\n",
      "Epoch 13/20\n",
      "87/87 - 3s - loss: 0.6932 - accuracy: 0.4971 - 3s/epoch - 37ms/step\n",
      "Epoch 14/20\n",
      "87/87 - 3s - loss: 0.6932 - accuracy: 0.4971 - 3s/epoch - 37ms/step\n",
      "Epoch 15/20\n",
      "87/87 - 3s - loss: 0.6932 - accuracy: 0.4971 - 3s/epoch - 37ms/step\n",
      "Epoch 16/20\n",
      "87/87 - 3s - loss: 0.6932 - accuracy: 0.4971 - 3s/epoch - 37ms/step\n",
      "Epoch 17/20\n",
      "87/87 - 3s - loss: 0.6932 - accuracy: 0.4971 - 3s/epoch - 37ms/step\n",
      "Epoch 18/20\n",
      "87/87 - 3s - loss: 0.6932 - accuracy: 0.4971 - 3s/epoch - 38ms/step\n",
      "Epoch 19/20\n",
      "87/87 - 3s - loss: 0.6932 - accuracy: 0.4971 - 3s/epoch - 38ms/step\n",
      "Epoch 20/20\n",
      "87/87 - 3s - loss: 0.6932 - accuracy: 0.4971 - 3s/epoch - 38ms/step\n"
     ]
    },
    {
     "data": {
      "text/plain": [
       "<keras.callbacks.History at 0x1735c40e370>"
      ]
     },
     "execution_count": 29,
     "metadata": {},
     "output_type": "execute_result"
    }
   ],
   "source": [
    "model.fit(X_train, y_train, epochs=20, batch_size=20, verbose=2)"
   ]
  },
  {
   "cell_type": "code",
   "execution_count": 137,
   "id": "dbdb19fd",
   "metadata": {
    "collapsed": true
   },
   "outputs": [
    {
     "data": {
      "text/plain": [
       "array([[1.],\n",
       "       [1.],\n",
       "       [1.],\n",
       "       [1.],\n",
       "       [1.],\n",
       "       [1.],\n",
       "       [1.],\n",
       "       [1.],\n",
       "       [1.],\n",
       "       [1.],\n",
       "       [1.],\n",
       "       [1.],\n",
       "       [1.],\n",
       "       [1.],\n",
       "       [1.],\n",
       "       [1.],\n",
       "       [1.],\n",
       "       [1.],\n",
       "       [1.],\n",
       "       [1.],\n",
       "       [1.],\n",
       "       [1.],\n",
       "       [1.],\n",
       "       [1.],\n",
       "       [1.],\n",
       "       [1.],\n",
       "       [1.],\n",
       "       [1.],\n",
       "       [1.],\n",
       "       [1.],\n",
       "       [1.],\n",
       "       [1.],\n",
       "       [1.],\n",
       "       [1.],\n",
       "       [1.],\n",
       "       [1.],\n",
       "       [1.],\n",
       "       [1.],\n",
       "       [1.],\n",
       "       [1.],\n",
       "       [1.],\n",
       "       [1.],\n",
       "       [1.],\n",
       "       [1.],\n",
       "       [1.],\n",
       "       [1.],\n",
       "       [1.],\n",
       "       [1.],\n",
       "       [1.],\n",
       "       [1.],\n",
       "       [1.],\n",
       "       [1.],\n",
       "       [1.],\n",
       "       [1.],\n",
       "       [1.],\n",
       "       [1.],\n",
       "       [1.],\n",
       "       [1.],\n",
       "       [1.],\n",
       "       [1.],\n",
       "       [1.],\n",
       "       [1.],\n",
       "       [1.],\n",
       "       [1.],\n",
       "       [1.],\n",
       "       [1.],\n",
       "       [1.],\n",
       "       [1.],\n",
       "       [1.],\n",
       "       [1.],\n",
       "       [1.],\n",
       "       [1.],\n",
       "       [1.],\n",
       "       [1.],\n",
       "       [1.],\n",
       "       [1.],\n",
       "       [1.],\n",
       "       [1.],\n",
       "       [1.],\n",
       "       [1.],\n",
       "       [1.],\n",
       "       [1.],\n",
       "       [1.],\n",
       "       [1.],\n",
       "       [1.],\n",
       "       [1.],\n",
       "       [1.],\n",
       "       [1.],\n",
       "       [1.],\n",
       "       [1.],\n",
       "       [1.],\n",
       "       [1.],\n",
       "       [1.],\n",
       "       [1.],\n",
       "       [1.],\n",
       "       [1.],\n",
       "       [1.],\n",
       "       [1.],\n",
       "       [1.],\n",
       "       [1.],\n",
       "       [1.],\n",
       "       [1.],\n",
       "       [1.],\n",
       "       [1.],\n",
       "       [1.],\n",
       "       [1.],\n",
       "       [1.],\n",
       "       [1.],\n",
       "       [1.],\n",
       "       [1.],\n",
       "       [1.],\n",
       "       [1.],\n",
       "       [1.],\n",
       "       [1.],\n",
       "       [1.],\n",
       "       [1.],\n",
       "       [1.],\n",
       "       [1.],\n",
       "       [1.],\n",
       "       [1.],\n",
       "       [1.],\n",
       "       [1.],\n",
       "       [1.],\n",
       "       [1.],\n",
       "       [1.],\n",
       "       [1.],\n",
       "       [1.],\n",
       "       [1.],\n",
       "       [1.],\n",
       "       [1.],\n",
       "       [1.],\n",
       "       [1.],\n",
       "       [1.],\n",
       "       [1.],\n",
       "       [1.],\n",
       "       [1.],\n",
       "       [1.],\n",
       "       [1.],\n",
       "       [1.],\n",
       "       [1.],\n",
       "       [1.],\n",
       "       [1.],\n",
       "       [1.],\n",
       "       [1.],\n",
       "       [1.],\n",
       "       [1.],\n",
       "       [1.],\n",
       "       [1.],\n",
       "       [1.],\n",
       "       [1.],\n",
       "       [1.],\n",
       "       [1.],\n",
       "       [1.],\n",
       "       [1.],\n",
       "       [1.],\n",
       "       [1.],\n",
       "       [1.],\n",
       "       [1.],\n",
       "       [1.],\n",
       "       [1.],\n",
       "       [1.],\n",
       "       [1.],\n",
       "       [1.],\n",
       "       [1.],\n",
       "       [1.],\n",
       "       [1.],\n",
       "       [1.],\n",
       "       [1.],\n",
       "       [1.],\n",
       "       [1.],\n",
       "       [1.],\n",
       "       [1.],\n",
       "       [1.],\n",
       "       [1.],\n",
       "       [1.],\n",
       "       [1.],\n",
       "       [1.],\n",
       "       [1.],\n",
       "       [1.],\n",
       "       [1.],\n",
       "       [1.],\n",
       "       [1.],\n",
       "       [1.],\n",
       "       [1.],\n",
       "       [1.],\n",
       "       [1.],\n",
       "       [1.],\n",
       "       [1.],\n",
       "       [1.],\n",
       "       [1.],\n",
       "       [1.],\n",
       "       [1.],\n",
       "       [1.],\n",
       "       [1.],\n",
       "       [1.],\n",
       "       [1.],\n",
       "       [1.],\n",
       "       [1.],\n",
       "       [1.],\n",
       "       [1.],\n",
       "       [1.],\n",
       "       [1.],\n",
       "       [1.],\n",
       "       [1.],\n",
       "       [1.],\n",
       "       [1.],\n",
       "       [1.],\n",
       "       [1.],\n",
       "       [1.],\n",
       "       [1.],\n",
       "       [1.],\n",
       "       [1.],\n",
       "       [1.],\n",
       "       [1.],\n",
       "       [1.],\n",
       "       [1.],\n",
       "       [1.],\n",
       "       [1.],\n",
       "       [1.],\n",
       "       [1.],\n",
       "       [1.],\n",
       "       [1.],\n",
       "       [1.],\n",
       "       [1.],\n",
       "       [1.],\n",
       "       [1.],\n",
       "       [1.],\n",
       "       [1.],\n",
       "       [1.],\n",
       "       [1.],\n",
       "       [1.],\n",
       "       [1.],\n",
       "       [1.],\n",
       "       [1.],\n",
       "       [1.],\n",
       "       [1.],\n",
       "       [1.],\n",
       "       [1.],\n",
       "       [1.],\n",
       "       [1.],\n",
       "       [1.],\n",
       "       [1.],\n",
       "       [1.],\n",
       "       [1.],\n",
       "       [1.],\n",
       "       [1.],\n",
       "       [1.],\n",
       "       [1.],\n",
       "       [1.],\n",
       "       [1.],\n",
       "       [1.],\n",
       "       [1.],\n",
       "       [1.],\n",
       "       [1.],\n",
       "       [1.],\n",
       "       [1.],\n",
       "       [1.],\n",
       "       [1.],\n",
       "       [1.],\n",
       "       [1.],\n",
       "       [1.],\n",
       "       [1.],\n",
       "       [1.],\n",
       "       [1.],\n",
       "       [1.],\n",
       "       [1.],\n",
       "       [1.],\n",
       "       [1.],\n",
       "       [1.],\n",
       "       [1.],\n",
       "       [1.],\n",
       "       [1.],\n",
       "       [1.],\n",
       "       [1.],\n",
       "       [1.],\n",
       "       [1.],\n",
       "       [1.],\n",
       "       [1.],\n",
       "       [1.],\n",
       "       [1.],\n",
       "       [1.],\n",
       "       [1.],\n",
       "       [1.],\n",
       "       [1.],\n",
       "       [1.],\n",
       "       [1.],\n",
       "       [1.],\n",
       "       [1.],\n",
       "       [1.],\n",
       "       [1.],\n",
       "       [1.],\n",
       "       [1.],\n",
       "       [1.],\n",
       "       [1.],\n",
       "       [1.],\n",
       "       [1.],\n",
       "       [1.],\n",
       "       [1.],\n",
       "       [1.],\n",
       "       [1.],\n",
       "       [1.],\n",
       "       [1.],\n",
       "       [1.],\n",
       "       [1.],\n",
       "       [1.],\n",
       "       [1.],\n",
       "       [1.],\n",
       "       [1.],\n",
       "       [1.],\n",
       "       [1.],\n",
       "       [1.],\n",
       "       [1.],\n",
       "       [1.],\n",
       "       [1.],\n",
       "       [1.],\n",
       "       [1.],\n",
       "       [1.],\n",
       "       [1.],\n",
       "       [1.],\n",
       "       [1.],\n",
       "       [1.],\n",
       "       [1.],\n",
       "       [1.],\n",
       "       [1.],\n",
       "       [1.],\n",
       "       [1.],\n",
       "       [1.],\n",
       "       [1.],\n",
       "       [1.],\n",
       "       [1.],\n",
       "       [1.],\n",
       "       [1.],\n",
       "       [1.],\n",
       "       [1.],\n",
       "       [1.],\n",
       "       [1.],\n",
       "       [1.],\n",
       "       [1.],\n",
       "       [1.],\n",
       "       [1.],\n",
       "       [1.],\n",
       "       [1.],\n",
       "       [1.],\n",
       "       [1.],\n",
       "       [1.],\n",
       "       [1.],\n",
       "       [1.],\n",
       "       [1.],\n",
       "       [1.],\n",
       "       [1.],\n",
       "       [1.],\n",
       "       [1.],\n",
       "       [1.],\n",
       "       [1.],\n",
       "       [1.],\n",
       "       [1.],\n",
       "       [1.],\n",
       "       [1.],\n",
       "       [1.],\n",
       "       [1.],\n",
       "       [1.],\n",
       "       [1.],\n",
       "       [1.],\n",
       "       [1.],\n",
       "       [1.],\n",
       "       [1.],\n",
       "       [1.],\n",
       "       [1.],\n",
       "       [1.],\n",
       "       [1.],\n",
       "       [1.],\n",
       "       [1.],\n",
       "       [1.],\n",
       "       [1.],\n",
       "       [1.],\n",
       "       [1.],\n",
       "       [1.],\n",
       "       [1.],\n",
       "       [1.],\n",
       "       [1.],\n",
       "       [1.],\n",
       "       [1.],\n",
       "       [1.],\n",
       "       [1.],\n",
       "       [1.],\n",
       "       [1.],\n",
       "       [1.],\n",
       "       [1.],\n",
       "       [1.],\n",
       "       [1.],\n",
       "       [1.],\n",
       "       [1.],\n",
       "       [1.],\n",
       "       [1.],\n",
       "       [1.],\n",
       "       [1.],\n",
       "       [1.],\n",
       "       [1.],\n",
       "       [1.],\n",
       "       [1.],\n",
       "       [1.],\n",
       "       [1.],\n",
       "       [1.],\n",
       "       [1.],\n",
       "       [1.],\n",
       "       [1.],\n",
       "       [1.],\n",
       "       [1.],\n",
       "       [1.],\n",
       "       [1.],\n",
       "       [1.],\n",
       "       [1.],\n",
       "       [1.],\n",
       "       [1.],\n",
       "       [1.],\n",
       "       [1.],\n",
       "       [1.],\n",
       "       [1.],\n",
       "       [1.],\n",
       "       [1.],\n",
       "       [1.],\n",
       "       [1.],\n",
       "       [1.],\n",
       "       [1.],\n",
       "       [1.],\n",
       "       [1.],\n",
       "       [1.],\n",
       "       [1.],\n",
       "       [1.],\n",
       "       [1.],\n",
       "       [1.],\n",
       "       [1.],\n",
       "       [1.],\n",
       "       [1.]], dtype=float32)"
      ]
     },
     "execution_count": 137,
     "metadata": {},
     "output_type": "execute_result"
    }
   ],
   "source": [
    "model.predict(X_test)"
   ]
  },
  {
   "cell_type": "markdown",
   "id": "7cfab1fb",
   "metadata": {},
   "source": [
    "# 2D convolution #"
   ]
  },
  {
   "cell_type": "code",
   "execution_count": 30,
   "id": "9ac01a63",
   "metadata": {},
   "outputs": [],
   "source": [
    "reshaped = []\n",
    "for i in specs_inter:\n",
    "    i = i.reshape(23,167)\n",
    "    i = np.expand_dims(i, axis=-1)\n",
    "    reshaped.append(i)\n",
    "reshaped = np.array(reshaped)\n"
   ]
  },
  {
   "cell_type": "code",
   "execution_count": 31,
   "id": "16f2c8c9",
   "metadata": {},
   "outputs": [
    {
     "data": {
      "text/plain": [
       "(2170, 23, 167, 1)"
      ]
     },
     "execution_count": 31,
     "metadata": {},
     "output_type": "execute_result"
    }
   ],
   "source": [
    "reshaped.shape"
   ]
  },
  {
   "cell_type": "code",
   "execution_count": 62,
   "id": "bb0720c5",
   "metadata": {},
   "outputs": [
    {
     "data": {
      "text/plain": [
       "<matplotlib.image.AxesImage at 0x1732e2089a0>"
      ]
     },
     "execution_count": 62,
     "metadata": {},
     "output_type": "execute_result"
    },
    {
     "data": {
      "image/png": "[encoded data removed]",
      "text/plain": [
       "<Figure size 432x288 with 1 Axes>"
      ]
     },
     "metadata": {
      "needs_background": "light"
     },
     "output_type": "display_data"
    }
   ],
   "source": [
    "from matplotlib import pyplot as plt\n",
    "plt.imshow(reshaped[2000])"
   ]
  },
  {
   "cell_type": "code",
   "execution_count": 32,
   "id": "da5afd6b",
   "metadata": {},
   "outputs": [
    {
     "name": "stdout",
     "output_type": "stream",
     "text": [
      "training data: 1736 1736\n",
      "testing data: 434 434\n"
     ]
    }
   ],
   "source": [
    "from sklearn.model_selection import train_test_split\n",
    "\n",
    "x_train, x_test, y_train, y_test = train_test_split(reshaped, y, random_state=0, train_size = .8)\n",
    "print('training data:', len(x_train), len(y_train))\n",
    "print('testing data:', len(x_test), len(y_test))"
   ]
  },
  {
   "cell_type": "code",
   "execution_count": null,
   "id": "8411a853",
   "metadata": {},
   "outputs": [],
   "source": []
  },
  {
   "cell_type": "code",
   "execution_count": 33,
   "id": "294e911a",
   "metadata": {},
   "outputs": [
    {
     "name": "stdout",
     "output_type": "stream",
     "text": [
      "Trial 1 Complete [00h 00m 07s]\n",
      "val_loss: 0.636089563369751\n",
      "\n",
      "Best val_loss So Far: 0.636089563369751\n",
      "Total elapsed time: 00h 00m 07s\n",
      "INFO:tensorflow:Oracle triggered exit\n",
      "Epoch 1/10\n",
      "55/55 [==============================] - 1s 11ms/step - loss: 0.6969 - accuracy: 0.5386\n",
      "Epoch 2/10\n",
      "55/55 [==============================] - 0s 9ms/step - loss: 0.6803 - accuracy: 0.5806\n",
      "Epoch 3/10\n",
      "55/55 [==============================] - 0s 9ms/step - loss: 0.6731 - accuracy: 0.5939\n",
      "Epoch 4/10\n",
      "55/55 [==============================] - 0s 9ms/step - loss: 0.6612 - accuracy: 0.6175\n",
      "Epoch 5/10\n",
      "55/55 [==============================] - 0s 9ms/step - loss: 0.6504 - accuracy: 0.6123\n",
      "Epoch 6/10\n",
      "55/55 [==============================] - 0s 9ms/step - loss: 0.6484 - accuracy: 0.6273\n",
      "Epoch 7/10\n",
      "55/55 [==============================] - 0s 9ms/step - loss: 0.6409 - accuracy: 0.6204\n",
      "Epoch 8/10\n",
      "55/55 [==============================] - 0s 9ms/step - loss: 0.6326 - accuracy: 0.6342\n",
      "Epoch 9/10\n",
      "55/55 [==============================] - 0s 9ms/step - loss: 0.6220 - accuracy: 0.6480\n",
      "Epoch 10/10\n",
      "55/55 [==============================] - 0s 9ms/step - loss: 0.6161 - accuracy: 0.6538\n"
     ]
    },
    {
     "name": "stderr",
     "output_type": "stream",
     "text": [
      "WARNING:absl:Found untraced functions such as _jit_compiled_convolution_op, _jit_compiled_convolution_op while saving (showing 2 of 2). These functions will not be directly callable after loading.\n"
     ]
    },
    {
     "name": "stdout",
     "output_type": "stream",
     "text": [
      "INFO:tensorflow:Assets written to: .\\image_classifier\\best_model\\assets\n"
     ]
    },
    {
     "name": "stderr",
     "output_type": "stream",
     "text": [
      "INFO:tensorflow:Assets written to: .\\image_classifier\\best_model\\assets\n"
     ]
    },
    {
     "data": {
      "text/plain": [
       "<keras.callbacks.History at 0x1735d27c8e0>"
      ]
     },
     "execution_count": 33,
     "metadata": {},
     "output_type": "execute_result"
    }
   ],
   "source": [
    "import autokeras as ak\n",
    "clf = ak.ImageClassifier(overwrite=True, max_trials=1)\n",
    "clf.fit(\n",
    "    x_train,\n",
    "    y_train,\n",
    "    # Split the training data and use the last 15% as validation data.\n",
    "    validation_split=0.15,\n",
    "    epochs=10,\n",
    ")"
   ]
  },
  {
   "cell_type": "code",
   "execution_count": 34,
   "id": "555f02f4",
   "metadata": {
    "collapsed": true
   },
   "outputs": [
    {
     "name": "stdout",
     "output_type": "stream",
     "text": [
      "14/14 [==============================] - 1s 31ms/step\n",
      "14/14 [==============================] - 0s 4ms/step\n",
      "[[1.]\n",
      " [1.]\n",
      " [1.]\n",
      " [1.]\n",
      " [0.]\n",
      " [0.]\n",
      " [1.]\n",
      " [0.]\n",
      " [1.]\n",
      " [1.]\n",
      " [0.]\n",
      " [1.]\n",
      " [0.]\n",
      " [0.]\n",
      " [0.]\n",
      " [1.]\n",
      " [0.]\n",
      " [0.]\n",
      " [1.]\n",
      " [1.]\n",
      " [1.]\n",
      " [0.]\n",
      " [0.]\n",
      " [1.]\n",
      " [0.]\n",
      " [1.]\n",
      " [1.]\n",
      " [0.]\n",
      " [0.]\n",
      " [0.]\n",
      " [1.]\n",
      " [1.]\n",
      " [1.]\n",
      " [0.]\n",
      " [1.]\n",
      " [0.]\n",
      " [0.]\n",
      " [1.]\n",
      " [0.]\n",
      " [1.]\n",
      " [0.]\n",
      " [0.]\n",
      " [0.]\n",
      " [0.]\n",
      " [0.]\n",
      " [1.]\n",
      " [1.]\n",
      " [0.]\n",
      " [1.]\n",
      " [0.]\n",
      " [1.]\n",
      " [0.]\n",
      " [1.]\n",
      " [0.]\n",
      " [1.]\n",
      " [0.]\n",
      " [0.]\n",
      " [0.]\n",
      " [0.]\n",
      " [1.]\n",
      " [1.]\n",
      " [1.]\n",
      " [0.]\n",
      " [1.]\n",
      " [1.]\n",
      " [1.]\n",
      " [0.]\n",
      " [0.]\n",
      " [0.]\n",
      " [1.]\n",
      " [1.]\n",
      " [0.]\n",
      " [1.]\n",
      " [1.]\n",
      " [0.]\n",
      " [1.]\n",
      " [0.]\n",
      " [1.]\n",
      " [0.]\n",
      " [1.]\n",
      " [0.]\n",
      " [1.]\n",
      " [1.]\n",
      " [1.]\n",
      " [1.]\n",
      " [0.]\n",
      " [1.]\n",
      " [0.]\n",
      " [0.]\n",
      " [0.]\n",
      " [0.]\n",
      " [1.]\n",
      " [1.]\n",
      " [1.]\n",
      " [1.]\n",
      " [1.]\n",
      " [1.]\n",
      " [0.]\n",
      " [1.]\n",
      " [0.]\n",
      " [1.]\n",
      " [0.]\n",
      " [0.]\n",
      " [0.]\n",
      " [0.]\n",
      " [0.]\n",
      " [0.]\n",
      " [0.]\n",
      " [1.]\n",
      " [0.]\n",
      " [0.]\n",
      " [1.]\n",
      " [0.]\n",
      " [0.]\n",
      " [0.]\n",
      " [1.]\n",
      " [0.]\n",
      " [1.]\n",
      " [0.]\n",
      " [1.]\n",
      " [1.]\n",
      " [0.]\n",
      " [1.]\n",
      " [0.]\n",
      " [1.]\n",
      " [0.]\n",
      " [1.]\n",
      " [1.]\n",
      " [1.]\n",
      " [1.]\n",
      " [1.]\n",
      " [1.]\n",
      " [0.]\n",
      " [0.]\n",
      " [1.]\n",
      " [1.]\n",
      " [1.]\n",
      " [0.]\n",
      " [0.]\n",
      " [1.]\n",
      " [1.]\n",
      " [1.]\n",
      " [0.]\n",
      " [1.]\n",
      " [1.]\n",
      " [1.]\n",
      " [0.]\n",
      " [0.]\n",
      " [0.]\n",
      " [1.]\n",
      " [1.]\n",
      " [1.]\n",
      " [1.]\n",
      " [1.]\n",
      " [0.]\n",
      " [0.]\n",
      " [1.]\n",
      " [1.]\n",
      " [0.]\n",
      " [1.]\n",
      " [0.]\n",
      " [1.]\n",
      " [0.]\n",
      " [1.]\n",
      " [1.]\n",
      " [0.]\n",
      " [1.]\n",
      " [1.]\n",
      " [1.]\n",
      " [0.]\n",
      " [0.]\n",
      " [1.]\n",
      " [0.]\n",
      " [1.]\n",
      " [0.]\n",
      " [0.]\n",
      " [1.]\n",
      " [0.]\n",
      " [0.]\n",
      " [1.]\n",
      " [0.]\n",
      " [0.]\n",
      " [1.]\n",
      " [0.]\n",
      " [1.]\n",
      " [0.]\n",
      " [1.]\n",
      " [0.]\n",
      " [0.]\n",
      " [1.]\n",
      " [0.]\n",
      " [0.]\n",
      " [1.]\n",
      " [1.]\n",
      " [1.]\n",
      " [0.]\n",
      " [0.]\n",
      " [1.]\n",
      " [0.]\n",
      " [1.]\n",
      " [0.]\n",
      " [1.]\n",
      " [1.]\n",
      " [1.]\n",
      " [1.]\n",
      " [0.]\n",
      " [1.]\n",
      " [0.]\n",
      " [1.]\n",
      " [0.]\n",
      " [0.]\n",
      " [1.]\n",
      " [0.]\n",
      " [0.]\n",
      " [1.]\n",
      " [1.]\n",
      " [1.]\n",
      " [1.]\n",
      " [1.]\n",
      " [0.]\n",
      " [1.]\n",
      " [1.]\n",
      " [0.]\n",
      " [1.]\n",
      " [1.]\n",
      " [0.]\n",
      " [1.]\n",
      " [1.]\n",
      " [0.]\n",
      " [1.]\n",
      " [1.]\n",
      " [1.]\n",
      " [0.]\n",
      " [1.]\n",
      " [0.]\n",
      " [0.]\n",
      " [1.]\n",
      " [1.]\n",
      " [0.]\n",
      " [0.]\n",
      " [1.]\n",
      " [1.]\n",
      " [0.]\n",
      " [0.]\n",
      " [0.]\n",
      " [1.]\n",
      " [1.]\n",
      " [1.]\n",
      " [1.]\n",
      " [1.]\n",
      " [0.]\n",
      " [1.]\n",
      " [0.]\n",
      " [1.]\n",
      " [1.]\n",
      " [1.]\n",
      " [1.]\n",
      " [1.]\n",
      " [0.]\n",
      " [0.]\n",
      " [0.]\n",
      " [0.]\n",
      " [1.]\n",
      " [1.]\n",
      " [1.]\n",
      " [0.]\n",
      " [1.]\n",
      " [0.]\n",
      " [1.]\n",
      " [1.]\n",
      " [0.]\n",
      " [0.]\n",
      " [0.]\n",
      " [1.]\n",
      " [0.]\n",
      " [0.]\n",
      " [0.]\n",
      " [0.]\n",
      " [1.]\n",
      " [0.]\n",
      " [0.]\n",
      " [0.]\n",
      " [1.]\n",
      " [0.]\n",
      " [0.]\n",
      " [0.]\n",
      " [0.]\n",
      " [1.]\n",
      " [0.]\n",
      " [0.]\n",
      " [1.]\n",
      " [0.]\n",
      " [1.]\n",
      " [1.]\n",
      " [1.]\n",
      " [1.]\n",
      " [1.]\n",
      " [0.]\n",
      " [0.]\n",
      " [0.]\n",
      " [1.]\n",
      " [0.]\n",
      " [1.]\n",
      " [1.]\n",
      " [1.]\n",
      " [1.]\n",
      " [0.]\n",
      " [0.]\n",
      " [0.]\n",
      " [1.]\n",
      " [0.]\n",
      " [0.]\n",
      " [1.]\n",
      " [1.]\n",
      " [0.]\n",
      " [1.]\n",
      " [1.]\n",
      " [0.]\n",
      " [1.]\n",
      " [0.]\n",
      " [1.]\n",
      " [1.]\n",
      " [0.]\n",
      " [1.]\n",
      " [0.]\n",
      " [1.]\n",
      " [0.]\n",
      " [1.]\n",
      " [0.]\n",
      " [1.]\n",
      " [1.]\n",
      " [1.]\n",
      " [1.]\n",
      " [1.]\n",
      " [1.]\n",
      " [0.]\n",
      " [0.]\n",
      " [1.]\n",
      " [1.]\n",
      " [1.]\n",
      " [1.]\n",
      " [0.]\n",
      " [0.]\n",
      " [1.]\n",
      " [1.]\n",
      " [0.]\n",
      " [1.]\n",
      " [0.]\n",
      " [1.]\n",
      " [1.]\n",
      " [1.]\n",
      " [1.]\n",
      " [1.]\n",
      " [1.]\n",
      " [1.]\n",
      " [1.]\n",
      " [1.]\n",
      " [0.]\n",
      " [0.]\n",
      " [1.]\n",
      " [0.]\n",
      " [0.]\n",
      " [1.]\n",
      " [1.]\n",
      " [1.]\n",
      " [1.]\n",
      " [1.]\n",
      " [1.]\n",
      " [1.]\n",
      " [0.]\n",
      " [1.]\n",
      " [0.]\n",
      " [0.]\n",
      " [0.]\n",
      " [1.]\n",
      " [0.]\n",
      " [1.]\n",
      " [0.]\n",
      " [1.]\n",
      " [1.]\n",
      " [0.]\n",
      " [0.]\n",
      " [0.]\n",
      " [1.]\n",
      " [1.]\n",
      " [1.]\n",
      " [0.]\n",
      " [1.]\n",
      " [0.]\n",
      " [1.]\n",
      " [1.]\n",
      " [1.]\n",
      " [1.]\n",
      " [0.]\n",
      " [1.]\n",
      " [0.]\n",
      " [1.]\n",
      " [1.]\n",
      " [0.]\n",
      " [1.]\n",
      " [0.]\n",
      " [1.]\n",
      " [1.]\n",
      " [1.]\n",
      " [1.]\n",
      " [0.]\n",
      " [0.]\n",
      " [1.]\n",
      " [1.]\n",
      " [1.]\n",
      " [1.]\n",
      " [0.]\n",
      " [0.]\n",
      " [1.]\n",
      " [0.]\n",
      " [1.]\n",
      " [0.]\n",
      " [1.]\n",
      " [0.]\n",
      " [1.]\n",
      " [1.]\n",
      " [1.]\n",
      " [1.]\n",
      " [1.]\n",
      " [1.]\n",
      " [0.]\n",
      " [1.]\n",
      " [0.]\n",
      " [1.]\n",
      " [1.]\n",
      " [0.]\n",
      " [1.]\n",
      " [1.]\n",
      " [1.]]\n",
      "14/14 [==============================] - 0s 4ms/step - loss: 0.6441 - accuracy: 0.6359\n",
      "[0.6440977454185486, 0.6359447240829468]\n"
     ]
    }
   ],
   "source": [
    "\n",
    "# Predict with the best model.\n",
    "predicted_y = clf.predict(x_test)\n",
    "print(predicted_y)\n",
    "\n",
    "\n",
    "# Evaluate the best model with testing data.\n",
    "print(clf.evaluate(x_test, y_test))\n"
   ]
  },
  {
   "cell_type": "code",
   "execution_count": 37,
   "id": "0d6ed30a",
   "metadata": {},
   "outputs": [
    {
     "name": "stdout",
     "output_type": "stream",
     "text": [
      "[1.] 1.0\n",
      "[1.] 1.0\n",
      "[1.] 1.0\n",
      "[1.] 0.0\n",
      "[0.] 0.0\n",
      "[0.] 0.0\n",
      "[1.] 1.0\n",
      "[0.] 0.0\n",
      "[1.] 0.0\n",
      "[1.] 1.0\n",
      "[0.] 1.0\n",
      "[1.] 0.0\n",
      "[0.] 1.0\n",
      "[0.] 0.0\n",
      "[0.] 0.0\n",
      "[1.] 1.0\n",
      "[0.] 1.0\n",
      "[0.] 1.0\n",
      "[1.] 1.0\n",
      "[1.] 1.0\n",
      "[1.] 1.0\n",
      "[0.] 0.0\n",
      "[0.] 1.0\n",
      "[1.] 1.0\n",
      "[0.] 0.0\n",
      "[1.] 1.0\n",
      "[1.] 1.0\n",
      "[0.] 0.0\n",
      "[0.] 0.0\n",
      "[0.] 0.0\n",
      "[1.] 1.0\n",
      "[1.] 1.0\n",
      "[1.] 0.0\n",
      "[0.] 0.0\n",
      "[1.] 1.0\n",
      "[0.] 1.0\n",
      "[0.] 1.0\n",
      "[1.] 1.0\n",
      "[0.] 0.0\n",
      "[1.] 1.0\n",
      "[0.] 1.0\n",
      "[0.] 0.0\n",
      "[0.] 1.0\n",
      "[0.] 0.0\n",
      "[0.] 0.0\n",
      "[1.] 0.0\n",
      "[1.] 1.0\n",
      "[0.] 1.0\n",
      "[1.] 1.0\n",
      "[0.] 1.0\n",
      "[1.] 1.0\n",
      "[0.] 0.0\n",
      "[1.] 1.0\n",
      "[0.] 1.0\n",
      "[1.] 1.0\n",
      "[0.] 0.0\n",
      "[0.] 0.0\n",
      "[0.] 0.0\n",
      "[0.] 0.0\n",
      "[1.] 0.0\n",
      "[1.] 0.0\n",
      "[1.] 0.0\n",
      "[0.] 0.0\n",
      "[1.] 1.0\n",
      "[1.] 1.0\n",
      "[1.] 1.0\n",
      "[0.] 0.0\n",
      "[0.] 0.0\n",
      "[0.] 0.0\n",
      "[1.] 0.0\n",
      "[1.] 1.0\n",
      "[0.] 0.0\n",
      "[1.] 0.0\n",
      "[1.] 1.0\n",
      "[0.] 0.0\n",
      "[1.] 1.0\n",
      "[0.] 0.0\n",
      "[1.] 1.0\n",
      "[0.] 0.0\n",
      "[1.] 1.0\n",
      "[0.] 0.0\n",
      "[1.] 0.0\n",
      "[1.] 0.0\n",
      "[1.] 1.0\n",
      "[1.] 1.0\n",
      "[0.] 0.0\n",
      "[1.] 1.0\n",
      "[0.] 0.0\n",
      "[0.] 0.0\n",
      "[0.] 0.0\n",
      "[0.] 1.0\n",
      "[1.] 1.0\n",
      "[1.] 1.0\n",
      "[1.] 0.0\n",
      "[1.] 1.0\n",
      "[1.] 0.0\n",
      "[1.] 0.0\n",
      "[0.] 0.0\n",
      "[1.] 1.0\n",
      "[0.] 1.0\n",
      "[1.] 0.0\n",
      "[0.] 1.0\n",
      "[0.] 1.0\n",
      "[0.] 0.0\n",
      "[0.] 0.0\n",
      "[0.] 1.0\n",
      "[0.] 1.0\n",
      "[0.] 1.0\n",
      "[1.] 1.0\n",
      "[0.] 1.0\n",
      "[0.] 1.0\n",
      "[1.] 1.0\n",
      "[0.] 0.0\n",
      "[0.] 1.0\n",
      "[0.] 1.0\n",
      "[1.] 1.0\n",
      "[0.] 1.0\n",
      "[1.] 0.0\n",
      "[0.] 0.0\n",
      "[1.] 1.0\n",
      "[1.] 0.0\n",
      "[0.] 1.0\n",
      "[1.] 0.0\n",
      "[0.] 0.0\n",
      "[1.] 0.0\n",
      "[0.] 1.0\n",
      "[1.] 1.0\n",
      "[1.] 0.0\n",
      "[1.] 1.0\n",
      "[1.] 1.0\n",
      "[1.] 0.0\n",
      "[1.] 0.0\n",
      "[0.] 0.0\n",
      "[0.] 0.0\n",
      "[1.] 1.0\n",
      "[1.] 1.0\n",
      "[1.] 1.0\n",
      "[0.] 0.0\n",
      "[0.] 0.0\n",
      "[1.] 1.0\n",
      "[1.] 1.0\n",
      "[1.] 0.0\n",
      "[0.] 1.0\n",
      "[1.] 0.0\n",
      "[1.] 1.0\n",
      "[1.] 1.0\n",
      "[0.] 1.0\n",
      "[0.] 1.0\n",
      "[0.] 0.0\n",
      "[1.] 1.0\n",
      "[1.] 1.0\n",
      "[1.] 0.0\n",
      "[1.] 1.0\n",
      "[1.] 0.0\n",
      "[0.] 1.0\n",
      "[0.] 0.0\n",
      "[1.] 0.0\n",
      "[1.] 1.0\n",
      "[0.] 0.0\n",
      "[1.] 1.0\n",
      "[0.] 0.0\n",
      "[1.] 1.0\n",
      "[0.] 1.0\n",
      "[1.] 0.0\n",
      "[1.] 0.0\n",
      "[0.] 0.0\n",
      "[1.] 1.0\n",
      "[1.] 1.0\n",
      "[1.] 0.0\n",
      "[0.] 0.0\n",
      "[0.] 1.0\n",
      "[1.] 0.0\n",
      "[0.] 0.0\n",
      "[1.] 1.0\n",
      "[0.] 0.0\n",
      "[0.] 1.0\n",
      "[1.] 1.0\n",
      "[0.] 0.0\n",
      "[0.] 1.0\n",
      "[1.] 1.0\n",
      "[0.] 1.0\n",
      "[0.] 0.0\n",
      "[1.] 1.0\n",
      "[0.] 1.0\n",
      "[1.] 1.0\n",
      "[0.] 0.0\n",
      "[1.] 1.0\n",
      "[0.] 1.0\n",
      "[0.] 0.0\n",
      "[1.] 1.0\n",
      "[0.] 0.0\n",
      "[0.] 0.0\n",
      "[1.] 1.0\n",
      "[1.] 1.0\n",
      "[1.] 1.0\n",
      "[0.] 0.0\n",
      "[0.] 0.0\n",
      "[1.] 1.0\n",
      "[0.] 1.0\n",
      "[1.] 0.0\n",
      "[0.] 0.0\n",
      "[1.] 1.0\n",
      "[1.] 1.0\n",
      "[1.] 0.0\n",
      "[1.] 1.0\n",
      "[0.] 0.0\n",
      "[1.] 0.0\n",
      "[0.] 0.0\n",
      "[1.] 1.0\n",
      "[0.] 1.0\n",
      "[0.] 1.0\n",
      "[1.] 1.0\n",
      "[0.] 0.0\n",
      "[0.] 1.0\n",
      "[1.] 0.0\n",
      "[1.] 0.0\n",
      "[1.] 1.0\n",
      "[1.] 1.0\n",
      "[1.] 1.0\n",
      "[0.] 0.0\n",
      "[1.] 1.0\n",
      "[1.] 1.0\n",
      "[0.] 0.0\n",
      "[1.] 1.0\n",
      "[1.] 0.0\n",
      "[0.] 0.0\n",
      "[1.] 0.0\n",
      "[1.] 1.0\n",
      "[0.] 0.0\n",
      "[1.] 0.0\n",
      "[1.] 0.0\n",
      "[1.] 0.0\n",
      "[0.] 0.0\n",
      "[1.] 0.0\n",
      "[0.] 0.0\n",
      "[0.] 1.0\n",
      "[1.] 0.0\n",
      "[1.] 1.0\n",
      "[0.] 0.0\n",
      "[0.] 0.0\n",
      "[1.] 0.0\n",
      "[1.] 0.0\n",
      "[0.] 0.0\n",
      "[0.] 1.0\n",
      "[0.] 0.0\n",
      "[1.] 1.0\n",
      "[1.] 0.0\n",
      "[1.] 1.0\n",
      "[1.] 0.0\n",
      "[1.] 1.0\n",
      "[0.] 0.0\n",
      "[1.] 0.0\n",
      "[0.] 0.0\n",
      "[1.] 1.0\n",
      "[1.] 0.0\n",
      "[1.] 1.0\n",
      "[1.] 1.0\n",
      "[1.] 1.0\n",
      "[0.] 1.0\n",
      "[0.] 0.0\n",
      "[0.] 0.0\n",
      "[0.] 0.0\n",
      "[1.] 0.0\n",
      "[1.] 1.0\n",
      "[1.] 1.0\n",
      "[0.] 0.0\n",
      "[1.] 1.0\n",
      "[0.] 0.0\n",
      "[1.] 1.0\n",
      "[1.] 1.0\n",
      "[0.] 0.0\n",
      "[0.] 0.0\n",
      "[0.] 1.0\n",
      "[1.] 1.0\n",
      "[0.] 0.0\n",
      "[0.] 0.0\n",
      "[0.] 0.0\n",
      "[0.] 1.0\n",
      "[1.] 1.0\n",
      "[0.] 0.0\n",
      "[0.] 1.0\n",
      "[0.] 0.0\n",
      "[1.] 1.0\n",
      "[0.] 0.0\n",
      "[0.] 1.0\n",
      "[0.] 0.0\n",
      "[0.] 0.0\n",
      "[1.] 1.0\n",
      "[0.] 1.0\n",
      "[0.] 1.0\n",
      "[1.] 1.0\n",
      "[0.] 1.0\n",
      "[1.] 1.0\n",
      "[1.] 1.0\n",
      "[1.] 0.0\n",
      "[1.] 0.0\n",
      "[1.] 0.0\n",
      "[0.] 1.0\n",
      "[0.] 0.0\n",
      "[0.] 0.0\n",
      "[1.] 1.0\n",
      "[0.] 0.0\n",
      "[1.] 0.0\n",
      "[1.] 1.0\n",
      "[1.] 1.0\n",
      "[1.] 0.0\n",
      "[0.] 1.0\n",
      "[0.] 0.0\n",
      "[0.] 1.0\n",
      "[1.] 1.0\n",
      "[0.] 0.0\n",
      "[0.] 0.0\n",
      "[1.] 0.0\n",
      "[1.] 1.0\n",
      "[0.] 0.0\n",
      "[1.] 1.0\n",
      "[1.] 0.0\n",
      "[0.] 1.0\n",
      "[1.] 0.0\n",
      "[0.] 0.0\n",
      "[1.] 1.0\n",
      "[1.] 0.0\n",
      "[0.] 1.0\n",
      "[1.] 1.0\n",
      "[0.] 0.0\n",
      "[1.] 1.0\n",
      "[0.] 0.0\n",
      "[1.] 1.0\n",
      "[0.] 0.0\n",
      "[1.] 1.0\n",
      "[1.] 0.0\n",
      "[1.] 0.0\n",
      "[1.] 0.0\n",
      "[1.] 0.0\n",
      "[1.] 1.0\n",
      "[0.] 0.0\n",
      "[0.] 0.0\n",
      "[1.] 1.0\n",
      "[1.] 0.0\n",
      "[1.] 0.0\n",
      "[1.] 0.0\n",
      "[0.] 0.0\n",
      "[0.] 0.0\n",
      "[1.] 1.0\n",
      "[1.] 0.0\n",
      "[0.] 0.0\n",
      "[1.] 0.0\n",
      "[0.] 1.0\n",
      "[1.] 1.0\n",
      "[1.] 1.0\n",
      "[1.] 1.0\n",
      "[1.] 1.0\n",
      "[1.] 0.0\n",
      "[1.] 1.0\n",
      "[1.] 0.0\n",
      "[1.] 1.0\n",
      "[1.] 1.0\n",
      "[0.] 1.0\n",
      "[0.] 1.0\n",
      "[1.] 0.0\n",
      "[0.] 0.0\n",
      "[0.] 0.0\n",
      "[1.] 1.0\n",
      "[1.] 1.0\n",
      "[1.] 0.0\n",
      "[1.] 1.0\n",
      "[1.] 1.0\n",
      "[1.] 0.0\n",
      "[1.] 1.0\n",
      "[0.] 0.0\n",
      "[1.] 0.0\n",
      "[0.] 0.0\n",
      "[0.] 0.0\n",
      "[0.] 1.0\n",
      "[1.] 1.0\n",
      "[0.] 1.0\n",
      "[1.] 0.0\n",
      "[0.] 0.0\n",
      "[1.] 1.0\n",
      "[1.] 0.0\n",
      "[0.] 1.0\n",
      "[0.] 0.0\n",
      "[0.] 0.0\n",
      "[1.] 1.0\n",
      "[1.] 1.0\n",
      "[1.] 0.0\n",
      "[0.] 1.0\n",
      "[1.] 0.0\n",
      "[0.] 0.0\n",
      "[1.] 1.0\n",
      "[1.] 0.0\n",
      "[1.] 0.0\n",
      "[1.] 0.0\n",
      "[0.] 0.0\n",
      "[1.] 1.0\n",
      "[0.] 1.0\n",
      "[1.] 1.0\n",
      "[1.] 1.0\n",
      "[0.] 0.0\n",
      "[1.] 0.0\n",
      "[0.] 0.0\n",
      "[1.] 0.0\n",
      "[1.] 1.0\n",
      "[1.] 1.0\n",
      "[1.] 1.0\n",
      "[0.] 1.0\n",
      "[0.] 1.0\n",
      "[1.] 1.0\n",
      "[1.] 1.0\n",
      "[1.] 1.0\n",
      "[1.] 1.0\n",
      "[0.] 0.0\n",
      "[0.] 0.0\n",
      "[1.] 1.0\n",
      "[0.] 0.0\n",
      "[1.] 1.0\n",
      "[0.] 1.0\n",
      "[1.] 0.0\n",
      "[0.] 0.0\n",
      "[1.] 1.0\n",
      "[1.] 0.0\n",
      "[1.] 1.0\n",
      "[1.] 1.0\n",
      "[1.] 1.0\n",
      "[1.] 1.0\n",
      "[0.] 1.0\n",
      "[1.] 1.0\n",
      "[0.] 0.0\n",
      "[1.] 0.0\n",
      "[1.] 0.0\n",
      "[0.] 1.0\n",
      "[1.] 0.0\n",
      "[1.] 1.0\n",
      "[1.] 1.0\n"
     ]
    }
   ],
   "source": [
    "for i in range(len(y_test)):\n",
    "    print(predicted_y[i],  y_test[i])"
   ]
  },
  {
   "cell_type": "code",
   "execution_count": null,
   "id": "6554955f",
   "metadata": {},
   "outputs": [],
   "source": []
  },
  {
   "cell_type": "markdown",
   "id": "f6796bad",
   "metadata": {},
   "source": [
    "# Star-Net Model #"
   ]
  },
  {
   "cell_type": "code",
   "execution_count": 38,
   "id": "4d867e05",
   "metadata": {},
   "outputs": [],
   "source": [
    "import os\n",
    "import numpy as np\n",
    "import h5py\n",
    "import random\n",
    "\n",
    "import torch\n",
    "import torch.nn as nn\n",
    "import torch.nn.functional as F\n",
    "import torch.autograd as autograd\n",
    "from torch.utils.data import TensorDataset, DataLoader\n",
    "\n",
    "from torchsummary import summary\n"
   ]
  },
  {
   "cell_type": "code",
   "execution_count": 45,
   "id": "32a745cc",
   "metadata": {},
   "outputs": [
    {
     "data": {
      "application/vnd.jupyter.widget-view+json": {
       "model_id": "44b763e471cb4f29b1aa4e333e7fce36",
       "version_major": 2,
       "version_minor": 0
      },
      "text/plain": [
       "  0%|          | 0/2170 [00:00<?, ?it/s]"
      ]
     },
     "metadata": {},
     "output_type": "display_data"
    },
    {
     "name": "stdout",
     "output_type": "stream",
     "text": [
      "(2170, 3841)\n"
     ]
    }
   ],
   "source": [
    "from scipy.ndimage import interpolation\n",
    "import numpy as np\n",
    "specs_inter = []\n",
    "temp = specs + specs2\n",
    "\n",
    "for i in tqdm(temp):\n",
    "    x = np.array(i)\n",
    "    i = 3841\n",
    "    z = i / len(x)\n",
    "    x_int = interpolation.zoom(x,z)\n",
    "    #np.expand_dims(x_int, axis=0)\n",
    "    specs_inter.append(x_int)\n",
    "specs_inter = np.array(specs_inter)\n",
    "#specs_inter = np.expand_dims(specs_inter, axis=2)\n",
    "print(specs_inter.shape)"
   ]
  },
  {
   "cell_type": "code",
   "execution_count": 46,
   "id": "b9270907",
   "metadata": {},
   "outputs": [
    {
     "name": "stdout",
     "output_type": "stream",
     "text": [
      "training data: 1736 1736\n",
      "val data: 217 217\n",
      "testing data: 217 217\n"
     ]
    }
   ],
   "source": [
    "from sklearn.model_selection import train_test_split\n",
    "\n",
    "x_train, x_split, y_train, y_split = train_test_split(specs_inter, y,shuffle= True, random_state=42, train_size = .8)\n",
    "x_val, x_test, y_val, y_test = train_test_split(x_split, y_split,shuffle= True, random_state=42, train_size = .5)\n",
    "print('training data:', len(x_train), len(y_train))\n",
    "print('val data:', len(x_val), len(y_val))\n",
    "print('testing data:', len(x_test), len(y_test))"
   ]
  },
  {
   "cell_type": "code",
   "execution_count": null,
   "id": "10a636e5",
   "metadata": {},
   "outputs": [],
   "source": []
  },
  {
   "cell_type": "code",
   "execution_count": 47,
   "id": "c766b61b",
   "metadata": {},
   "outputs": [],
   "source": [
    "num_labels = 1\n",
    "num_fluxes = x_train.shape[1]"
   ]
  },
  {
   "cell_type": "code",
   "execution_count": null,
   "id": "fcbf6fda",
   "metadata": {},
   "outputs": [],
   "source": []
  },
  {
   "cell_type": "code",
   "execution_count": 48,
   "id": "1bda1d7e",
   "metadata": {},
   "outputs": [
    {
     "name": "stdout",
     "output_type": "stream",
     "text": [
      "----------------------------------------------------------------\n",
      "        Layer (type)               Output Shape         Param #\n",
      "================================================================\n",
      "            Conv1d-1              [-1, 4, 3834]              36\n",
      "            Conv1d-2             [-1, 16, 3827]             528\n",
      "         MaxPool1d-3              [-1, 16, 956]               0\n",
      "            Linear-4                  [-1, 256]       3,916,032\n",
      "            Linear-5                  [-1, 128]          32,896\n",
      "            Linear-6                    [-1, 1]             129\n",
      "================================================================\n",
      "Total params: 3,949,621\n",
      "Trainable params: 3,949,621\n",
      "Non-trainable params: 0\n",
      "----------------------------------------------------------------\n",
      "Input size (MB): 0.01\n",
      "Forward/backward pass size (MB): 0.70\n",
      "Params size (MB): 15.07\n",
      "Estimated Total Size (MB): 15.79\n",
      "----------------------------------------------------------------\n"
     ]
    },
    {
     "name": "stderr",
     "output_type": "stream",
     "text": [
      "C:\\Users\\91766\\AppData\\Local\\Temp\\ipykernel_14600\\2892720879.py:47: UserWarning: Implicit dimension choice for softmax has been deprecated. Change the call to include dim=X as an argument.\n",
      "  x = F.softmax(self.fc2(x))\n"
     ]
    }
   ],
   "source": [
    "# Number of filters used in the convolutional layers\n",
    "num_filters = [4,16]\n",
    "\n",
    "# Length of the filters in the convolutional layers\n",
    "filter_length = 8\n",
    "\n",
    "# Length of the maxpooling window \n",
    "pool_length = 4\n",
    "\n",
    "# Number of nodes in each of the hidden fully connected layers\n",
    "num_hidden = [256,128]\n",
    "\n",
    "def compute_out_size(in_size, mod):\n",
    "    \"\"\"\n",
    "    Compute output size of Module `mod` given an input with size `in_size`.\n",
    "    \"\"\"\n",
    "    \n",
    "    f = mod.forward(autograd.Variable(torch.Tensor(1, *in_size)))\n",
    "    return f.size()[1:]\n",
    "\n",
    "class StarNet(nn.Module):\n",
    "    def __init__(self, num_fluxes, num_filters, filter_length, \n",
    "                 pool_length, num_hidden, num_labels):\n",
    "        super().__init__()\n",
    "        \n",
    "        # Convolutional and pooling layers\n",
    "        self.conv1 = nn.Conv1d(1, num_filters[0], filter_length)\n",
    "        self.conv2 = nn.Conv1d(num_filters[0], num_filters[1], filter_length)\n",
    "        self.pool = nn.MaxPool1d(pool_length, pool_length)\n",
    "        \n",
    "        # Determine shape after pooling\n",
    "        pool_output_shape = compute_out_size((1,num_fluxes), \n",
    "                                             nn.Sequential(self.conv1, \n",
    "                                                           self.conv2, \n",
    "                                                           self.pool))\n",
    "        \n",
    "        # Fully connected layers\n",
    "        self.fc1 = nn.Linear(pool_output_shape[0]*pool_output_shape[1], num_hidden[0])\n",
    "        self.fc2 = nn.Linear(num_hidden[0], num_hidden[1])\n",
    "        self.output = nn.Linear(num_hidden[1], num_labels)\n",
    "\n",
    "    def forward(self, x):\n",
    "        x = F.relu(self.conv1(x))\n",
    "        x = self.pool(F.relu(self.conv2(x)))\n",
    "        x = torch.flatten(x, 1)\n",
    "        x = F.relu(self.fc1(x))\n",
    "        x = F.softmax(self.fc2(x))\n",
    "        x = self.output(x)\n",
    "        return x\n",
    "\n",
    "\n",
    "model = StarNet(num_fluxes, num_filters, filter_length, \n",
    "          pool_length, num_hidden, num_labels)\n",
    "\n",
    "summary(model, (1, num_fluxes))"
   ]
  },
  {
   "cell_type": "code",
   "execution_count": 49,
   "id": "751fb334",
   "metadata": {},
   "outputs": [],
   "source": [
    "# number of spectra fed into model at once during training\n",
    "batch_size = 32\n",
    "\n",
    "# number of epochs\n",
    "num_epochs = 15\n",
    "\n",
    "# initial learning rate for optimization algorithm\n",
    "learning_rate = 0.0007\n",
    "\n",
    "# Construct optimizer\n",
    "optimizer = torch.optim.Adam(model.parameters(), learning_rate,\n",
    "                             weight_decay=0)"
   ]
  },
  {
   "cell_type": "code",
   "execution_count": 50,
   "id": "b0ed574a",
   "metadata": {},
   "outputs": [],
   "source": [
    "train_dataset = TensorDataset(torch.Tensor(x_train),torch.Tensor(y_train))\n",
    "train_dataloader = DataLoader(train_dataset, batch_size=batch_size, shuffle=True)\n",
    "\n",
    "val_dataset = TensorDataset(torch.Tensor(x_val),torch.Tensor(y_val))\n",
    "val_dataloader = DataLoader(val_dataset, batch_size=batch_size)"
   ]
  },
  {
   "cell_type": "code",
   "execution_count": 51,
   "id": "74103e4d",
   "metadata": {},
   "outputs": [
    {
     "name": "stderr",
     "output_type": "stream",
     "text": [
      "C:\\Users\\91766\\AppData\\Local\\Temp\\ipykernel_14600\\2892720879.py:47: UserWarning: Implicit dimension choice for softmax has been deprecated. Change the call to include dim=X as an argument.\n",
      "  x = F.softmax(self.fc2(x))\n",
      "C:\\Users\\91766\\anaconda3\\lib\\site-packages\\torch\\nn\\modules\\loss.py:446: UserWarning: Using a target size (torch.Size([32])) that is different to the input size (torch.Size([32, 1])). This will likely lead to incorrect results due to broadcasting. Please ensure they have the same size.\n",
      "  return F.mse_loss(input, target, reduction=self.reduction)\n",
      "C:\\Users\\91766\\anaconda3\\lib\\site-packages\\torch\\nn\\modules\\loss.py:446: UserWarning: Using a target size (torch.Size([8])) that is different to the input size (torch.Size([8, 1])). This will likely lead to incorrect results due to broadcasting. Please ensure they have the same size.\n",
      "  return F.mse_loss(input, target, reduction=self.reduction)\n",
      "C:\\Users\\91766\\anaconda3\\lib\\site-packages\\torch\\nn\\modules\\loss.py:446: UserWarning: Using a target size (torch.Size([25])) that is different to the input size (torch.Size([25, 1])). This will likely lead to incorrect results due to broadcasting. Please ensure they have the same size.\n",
      "  return F.mse_loss(input, target, reduction=self.reduction)\n"
     ]
    },
    {
     "name": "stdout",
     "output_type": "stream",
     "text": [
      "[Epoch 1] Train Loss: 0.3879, Val Loss: 0.3345\n",
      "[Epoch 2] Train Loss: 0.3419, Val Loss: 0.3003\n",
      "[Epoch 3] Train Loss: 0.3081, Val Loss: 0.2773\n",
      "[Epoch 4] Train Loss: 0.2828, Val Loss: 0.2633\n",
      "[Epoch 5] Train Loss: 0.2706, Val Loss: 0.2552\n",
      "[Epoch 6] Train Loss: 0.2610, Val Loss: 0.2510\n",
      "[Epoch 7] Train Loss: 0.2550, Val Loss: 0.2491\n",
      "[Epoch 8] Train Loss: 0.2528, Val Loss: 0.2487\n",
      "[Epoch 9] Train Loss: 0.2518, Val Loss: 0.2487\n",
      "[Epoch 10] Train Loss: 0.2507, Val Loss: 0.2489\n",
      "[Epoch 11] Train Loss: 0.2505, Val Loss: 0.2492\n",
      "[Epoch 12] Train Loss: 0.2501, Val Loss: 0.2496\n",
      "[Epoch 13] Train Loss: 0.2500, Val Loss: 0.2497\n",
      "[Epoch 14] Train Loss: 0.2501, Val Loss: 0.2498\n",
      "[Epoch 15] Train Loss: 0.2501, Val Loss: 0.2500\n",
      "Finished Training\n"
     ]
    }
   ],
   "source": [
    "print_iters = 200\n",
    "train_losses = []\n",
    "val_losses = []\n",
    "# loop over the dataset multiple times\n",
    "for epoch in range(num_epochs):\n",
    "\n",
    "    running_loss = 0.0\n",
    "    for i, data in enumerate(train_dataloader, 0):\n",
    "        # Collect batch data\n",
    "        x_batch, y_batch = data\n",
    "\n",
    "        # Zero the parameter gradients\n",
    "        optimizer.zero_grad()\n",
    "\n",
    "        # forward + backward + optimize\n",
    "        y_pred = model(x_batch.unsqueeze(1))\n",
    "        loss = torch.nn.MSELoss()(y_pred, y_batch)\n",
    "        loss.backward()\n",
    "        optimizer.step()\n",
    "\n",
    "        # Print statistics\n",
    "        running_loss += loss.item()\n",
    "        if (i+1) % print_iters == 0:\n",
    "            print('[Epoch %i, %0.0f%%] Train Loss: %0.4f' % (epoch+1, \n",
    "                                                       (i+1)/len(train_dataloader)*100, \n",
    "                                                       running_loss/(i+1)), end=\"\\r\")\n",
    "    train_loss = running_loss/len(train_dataloader)\n",
    "    running_loss = 0.0\n",
    "    with torch.no_grad():\n",
    "        for i, data in enumerate(val_dataloader, 0):\n",
    "            # Collect batch data\n",
    "            x_batch, y_batch = data\n",
    "            y_pred = model(x_batch.unsqueeze(1))\n",
    "            loss = torch.nn.MSELoss()(y_pred, y_batch)\n",
    "            running_loss += loss.item()\n",
    "    val_loss = running_loss/len(val_dataloader)\n",
    "    print('[Epoch %i] Train Loss: %0.4f, Val Loss: %0.4f' % (epoch+1,  \n",
    "                                                             train_loss, \n",
    "                                                             val_loss))\n",
    "    train_losses.append(train_loss)\n",
    "    val_losses.append(val_loss)\n",
    "    \n",
    "print('Finished Training')"
   ]
  },
  {
   "cell_type": "code",
   "execution_count": 42,
   "id": "1432cf8b",
   "metadata": {},
   "outputs": [],
   "source": [
    "model_filename =  os.path.join('./','starnet_cnn-3.pth.tar')\n",
    "torch.save({'optimizer' : optimizer.state_dict(),\n",
    "            'model' : model.state_dict()}, \n",
    "           model_filename)"
   ]
  },
  {
   "cell_type": "code",
   "execution_count": 75,
   "id": "9228a5af",
   "metadata": {},
   "outputs": [
    {
     "data": {
      "text/plain": [
       "<All keys matched successfully>"
      ]
     },
     "execution_count": 75,
     "metadata": {},
     "output_type": "execute_result"
    }
   ],
   "source": [
    "num_fluxes = 3841\n",
    "num_labels = 1\n",
    "\n",
    "# Number of filters used in the convolutional layers\n",
    "num_filters = [4,16]\n",
    "\n",
    "# Length of the filters in the convolutional layers\n",
    "filter_length = 8\n",
    "\n",
    "# Length of the maxpooling window \n",
    "pool_length = 4\n",
    "\n",
    "# Number of nodes in each of the hidden fully connected layers\n",
    "num_hidden = [256,128]\n",
    "\n",
    "def compute_out_size(in_size, mod):\n",
    "    \"\"\"\n",
    "    Compute output size of Module `mod` given an input with size `in_size`.\n",
    "    \"\"\"\n",
    "    \n",
    "    f = mod.forward(autograd.Variable(torch.Tensor(1, *in_size)))\n",
    "    return f.size()[1:]\n",
    "\n",
    "class StarNet(nn.Module):\n",
    "    def __init__(self, num_fluxes, num_filters, filter_length, \n",
    "                 pool_length, num_hidden, num_labels):\n",
    "        super().__init__()\n",
    "        \n",
    "        # Convolutional and pooling layers\n",
    "        self.conv1 = nn.Conv1d(1, num_filters[0], filter_length)\n",
    "        self.conv2 = nn.Conv1d(num_filters[0], num_filters[1], filter_length)\n",
    "        self.pool = nn.MaxPool1d(pool_length, pool_length)\n",
    "        \n",
    "        # Determine shape after pooling\n",
    "        pool_output_shape = compute_out_size((1,num_fluxes), \n",
    "                                             nn.Sequential(self.conv1, \n",
    "                                                           self.conv2, \n",
    "                                                           self.pool))\n",
    "        \n",
    "        # Fully connected layers\n",
    "        self.fc1 = nn.Linear(pool_output_shape[0]*pool_output_shape[1], num_hidden[0])\n",
    "        self.fc2 = nn.Linear(num_hidden[0], num_hidden[1])\n",
    "        self.output = nn.Linear(num_hidden[1], num_labels)\n",
    "\n",
    "    def forward(self, x):\n",
    "        x = F.relu(self.conv1(x))\n",
    "        x = self.pool(F.relu(self.conv2(x)))\n",
    "        x = torch.flatten(x, 1)\n",
    "        x = F.relu(self.fc1(x))\n",
    "        x = F.relu(self.fc2(x))\n",
    "        x = self.output(x)\n",
    "        return x\n",
    "\n",
    "\n",
    "model = StarNet(num_fluxes, num_filters, filter_length, \n",
    "          pool_length, num_hidden, num_labels)\n",
    "\n",
    "# Load model weights\n",
    "model_filename =  os.path.join('./','starnet_cnn-1.pth.tar')\n",
    "checkpoint = torch.load(model_filename, map_location=lambda storage, loc: storage)\n",
    "model.load_state_dict(checkpoint['model'])"
   ]
  },
  {
   "cell_type": "code",
   "execution_count": 52,
   "id": "0088775a",
   "metadata": {},
   "outputs": [],
   "source": [
    "\n",
    "test_dataset = TensorDataset(torch.Tensor(x_test),torch.Tensor(y_test))\n",
    "test_dataloader = DataLoader(val_dataset, batch_size=batch_size)"
   ]
  },
  {
   "cell_type": "code",
   "execution_count": 53,
   "id": "8973c2cc",
   "metadata": {},
   "outputs": [
    {
     "name": "stderr",
     "output_type": "stream",
     "text": [
      "C:\\Users\\91766\\AppData\\Local\\Temp\\ipykernel_14600\\2892720879.py:47: UserWarning: Implicit dimension choice for softmax has been deprecated. Change the call to include dim=X as an argument.\n",
      "  x = F.softmax(self.fc2(x))\n"
     ]
    }
   ],
   "source": [
    "import time\n",
    "import os\n",
    "import numpy as np\n",
    "import matplotlib.pyplot as plt\n",
    "import seaborn as sns\n",
    "import h5py\n",
    "import time\n",
    "from matplotlib import gridspec\n",
    "\n",
    "import torch\n",
    "import torch.nn as nn\n",
    "import torch.nn.functional as F\n",
    "import torch.autograd as autograd\n",
    "from torch.utils.data import TensorDataset, DataLoader\n",
    "\n",
    "\n",
    "time1 = time.time()\n",
    "test_predictions = []\n",
    "with torch.no_grad():\n",
    "    for i, x_batch in enumerate(test_dataloader, 0):\n",
    "        test_predictions.append((model(x_batch[0].unsqueeze(1)).data.numpy()))\n",
    "test_predictions = np.concatenate(test_predictions)\n",
    "#print('%0.2f seconds to make %i predictions.' % (time.time()-time1, len(x_test))))"
   ]
  },
  {
   "cell_type": "code",
   "execution_count": 54,
   "id": "9160fcc1",
   "metadata": {
    "collapsed": true
   },
   "outputs": [
    {
     "name": "stdout",
     "output_type": "stream",
     "text": [
      "[[0.49961877]\n",
      " [0.49961877]\n",
      " [0.49961877]\n",
      " [0.49961877]\n",
      " [0.49961877]\n",
      " [0.49961877]\n",
      " [0.49961877]\n",
      " [0.49961877]\n",
      " [0.49961877]\n",
      " [0.49961877]\n",
      " [0.49961877]\n",
      " [0.49961877]\n",
      " [0.49961877]\n",
      " [0.49961877]\n",
      " [0.49961877]\n",
      " [0.49961877]\n",
      " [0.49961877]\n",
      " [0.49961877]\n",
      " [0.49961877]\n",
      " [0.49961877]\n",
      " [0.49961877]\n",
      " [0.49961877]\n",
      " [0.49961877]\n",
      " [0.49961877]\n",
      " [0.49961877]\n",
      " [0.49961877]\n",
      " [0.49961877]\n",
      " [0.49961877]\n",
      " [0.49961877]\n",
      " [0.49961877]\n",
      " [0.49961877]\n",
      " [0.49961877]\n",
      " [0.49961877]\n",
      " [0.49961877]\n",
      " [0.49961877]\n",
      " [0.49961877]\n",
      " [0.49961877]\n",
      " [0.49961877]\n",
      " [0.49961877]\n",
      " [0.49961877]\n",
      " [0.49961877]\n",
      " [0.49961877]\n",
      " [0.49961877]\n",
      " [0.49961877]\n",
      " [0.49961877]\n",
      " [0.49961877]\n",
      " [0.49961877]\n",
      " [0.49961877]\n",
      " [0.49961877]\n",
      " [0.49961877]\n",
      " [0.49961877]\n",
      " [0.49961877]\n",
      " [0.49961877]\n",
      " [0.49961877]\n",
      " [0.49961877]\n",
      " [0.49961877]\n",
      " [0.49961877]\n",
      " [0.49961877]\n",
      " [0.49961877]\n",
      " [0.49961877]\n",
      " [0.49961877]\n",
      " [0.49961877]\n",
      " [0.49961877]\n",
      " [0.49961877]\n",
      " [0.49961877]\n",
      " [0.49961877]\n",
      " [0.49961877]\n",
      " [0.49961877]\n",
      " [0.49961877]\n",
      " [0.49961877]\n",
      " [0.49961877]\n",
      " [0.49961877]\n",
      " [0.49961877]\n",
      " [0.49961877]\n",
      " [0.49961877]\n",
      " [0.49961877]\n",
      " [0.49961877]\n",
      " [0.49961877]\n",
      " [0.49961877]\n",
      " [0.49961877]\n",
      " [0.49961877]\n",
      " [0.49961877]\n",
      " [0.49961877]\n",
      " [0.49961877]\n",
      " [0.49961877]\n",
      " [0.49961877]\n",
      " [0.49961877]\n",
      " [0.49961877]\n",
      " [0.49961877]\n",
      " [0.49961877]\n",
      " [0.49961877]\n",
      " [0.49961877]\n",
      " [0.49961877]\n",
      " [0.49961877]\n",
      " [0.49961877]\n",
      " [0.49961877]\n",
      " [0.49961877]\n",
      " [0.49961877]\n",
      " [0.49961877]\n",
      " [0.49961877]] [0. 1. 0. 0. 1. 1. 0. 0. 1. 1. 1. 1. 0. 0. 0. 0. 1. 0. 1. 1. 1. 1. 1. 1.\n",
      " 1. 1. 1. 0. 0. 1. 1. 1. 0. 0. 0. 1. 1. 1. 1. 1. 0. 1. 1. 0. 1. 1. 1. 0.\n",
      " 1. 0. 0. 1. 0. 1. 0. 1. 1. 0. 1. 0. 0. 0. 1. 1. 0. 1. 0. 1. 1. 1. 0. 0.\n",
      " 0. 1. 1. 1. 0. 0. 0. 1. 1. 1. 0. 1. 0. 0. 0. 1. 1. 1. 0. 1. 0. 0. 1. 0.\n",
      " 1. 0. 1. 1.]\n"
     ]
    }
   ],
   "source": [
    "print(test_predictions[:100], y_test[0:100])"
   ]
  },
  {
   "cell_type": "markdown",
   "id": "9c4de7dd",
   "metadata": {},
   "source": [
    "# K mean Clustering"
   ]
  },
  {
   "cell_type": "code",
   "execution_count": 18,
   "id": "adceebb4",
   "metadata": {},
   "outputs": [],
   "source": [
    "from sklearn.cluster import KMeans\n",
    "import numpy as np"
   ]
  },
  {
   "cell_type": "code",
   "execution_count": 35,
   "id": "3362b1b1",
   "metadata": {},
   "outputs": [],
   "source": [
    "\n",
    "kmeans = KMeans(n_clusters=2, random_state=42).fit(X_train)\n"
   ]
  },
  {
   "cell_type": "code",
   "execution_count": 36,
   "id": "7105ff7d",
   "metadata": {
    "collapsed": true
   },
   "outputs": [
    {
     "name": "stdout",
     "output_type": "stream",
     "text": [
      "0\n",
      "1\n",
      "0\n",
      "0\n",
      "0\n",
      "0\n",
      "0\n",
      "0\n",
      "0\n",
      "0\n",
      "0\n",
      "0\n",
      "0\n",
      "0\n",
      "1\n",
      "0\n",
      "0\n",
      "1\n",
      "1\n",
      "1\n",
      "0\n",
      "0\n",
      "0\n",
      "0\n",
      "0\n",
      "0\n",
      "0\n",
      "0\n",
      "0\n",
      "0\n",
      "0\n",
      "0\n",
      "0\n",
      "0\n",
      "0\n",
      "0\n",
      "0\n",
      "0\n",
      "0\n",
      "1\n",
      "0\n",
      "0\n",
      "0\n",
      "0\n",
      "0\n",
      "0\n",
      "0\n",
      "0\n",
      "0\n",
      "0\n",
      "0\n",
      "0\n",
      "0\n",
      "1\n",
      "0\n",
      "0\n",
      "0\n",
      "0\n",
      "0\n",
      "0\n",
      "0\n",
      "0\n",
      "0\n",
      "0\n",
      "0\n",
      "0\n",
      "0\n",
      "0\n",
      "0\n",
      "0\n",
      "0\n",
      "0\n",
      "1\n",
      "0\n",
      "0\n",
      "0\n",
      "0\n",
      "0\n",
      "0\n",
      "0\n",
      "0\n",
      "0\n",
      "0\n",
      "1\n",
      "0\n",
      "1\n",
      "0\n",
      "0\n",
      "1\n",
      "0\n",
      "0\n",
      "0\n",
      "0\n",
      "0\n",
      "0\n",
      "0\n",
      "0\n",
      "0\n",
      "0\n",
      "0\n"
     ]
    }
   ],
   "source": [
    "for i in range(100):\n",
    "    print(kmeans.labels_[i])"
   ]
  },
  {
   "cell_type": "code",
   "execution_count": 43,
   "id": "fd2aa3c1",
   "metadata": {},
   "outputs": [
    {
     "data": {
      "text/plain": [
       "(1736, 3841)"
      ]
     },
     "execution_count": 43,
     "metadata": {},
     "output_type": "execute_result"
    }
   ],
   "source": [
    "X_train.shape"
   ]
  },
  {
   "cell_type": "code",
   "execution_count": 50,
   "id": "82146537",
   "metadata": {},
   "outputs": [],
   "source": [
    "pred = kmeans.fit_predict(X_test)"
   ]
  },
  {
   "cell_type": "code",
   "execution_count": 54,
   "id": "3d750882",
   "metadata": {},
   "outputs": [
    {
     "name": "stdout",
     "output_type": "stream",
     "text": [
      "209 434\n"
     ]
    }
   ],
   "source": [
    "k=0\n",
    "for i in range(pred.shape[0]):\n",
    "    if pred[i]==y_test[i]:\n",
    "        k = k+1\n",
    "print(k,pred.shape[0])"
   ]
  },
  {
   "cell_type": "code",
   "execution_count": 49,
   "id": "4f7fe60d",
   "metadata": {
    "collapsed": true
   },
   "outputs": [
    {
     "ename": "AttributeError",
     "evalue": "'NoneType' object has no attribute 'split'",
     "output_type": "error",
     "traceback": [
      "\u001b[1;31m---------------------------------------------------------------------------\u001b[0m",
      "\u001b[1;31mAttributeError\u001b[0m                            Traceback (most recent call last)",
      "Input \u001b[1;32mIn [49]\u001b[0m, in \u001b[0;36m<cell line: 8>\u001b[1;34m()\u001b[0m\n\u001b[0;32m      5\u001b[0m kmeans \u001b[38;5;241m=\u001b[39m KMeans(n_clusters\u001b[38;5;241m=\u001b[39m\u001b[38;5;241m2\u001b[39m, random_state\u001b[38;5;241m=\u001b[39m\u001b[38;5;241m0\u001b[39m)\u001b[38;5;241m.\u001b[39mfit(X)\n\u001b[0;32m      6\u001b[0m kmeans\u001b[38;5;241m.\u001b[39mlabels_\n\u001b[1;32m----> 8\u001b[0m \u001b[43mkmeans\u001b[49m\u001b[38;5;241;43m.\u001b[39;49m\u001b[43mpredict\u001b[49m\u001b[43m(\u001b[49m\u001b[43m[\u001b[49m\u001b[43m[\u001b[49m\u001b[38;5;241;43m0\u001b[39;49m\u001b[43m,\u001b[49m\u001b[43m \u001b[49m\u001b[38;5;241;43m0\u001b[39;49m\u001b[43m]\u001b[49m\u001b[43m,\u001b[49m\u001b[43m \u001b[49m\u001b[43m[\u001b[49m\u001b[38;5;241;43m12\u001b[39;49m\u001b[43m,\u001b[49m\u001b[43m \u001b[49m\u001b[38;5;241;43m3\u001b[39;49m\u001b[43m]\u001b[49m\u001b[43m]\u001b[49m\u001b[43m)\u001b[49m\n\u001b[0;32m     10\u001b[0m kmeans\u001b[38;5;241m.\u001b[39mcluster_centers_\n",
      "File \u001b[1;32m~\\anaconda3\\lib\\site-packages\\sklearn\\cluster\\_kmeans.py:1334\u001b[0m, in \u001b[0;36mKMeans.predict\u001b[1;34m(self, X, sample_weight)\u001b[0m\n\u001b[0;32m   1331\u001b[0m x_squared_norms \u001b[38;5;241m=\u001b[39m row_norms(X, squared\u001b[38;5;241m=\u001b[39m\u001b[38;5;28;01mTrue\u001b[39;00m)\n\u001b[0;32m   1332\u001b[0m sample_weight \u001b[38;5;241m=\u001b[39m _check_sample_weight(sample_weight, X, dtype\u001b[38;5;241m=\u001b[39mX\u001b[38;5;241m.\u001b[39mdtype)\n\u001b[1;32m-> 1334\u001b[0m \u001b[38;5;28;01mreturn\u001b[39;00m \u001b[43m_labels_inertia_threadpool_limit\u001b[49m\u001b[43m(\u001b[49m\n\u001b[0;32m   1335\u001b[0m \u001b[43m    \u001b[49m\u001b[43mX\u001b[49m\u001b[43m,\u001b[49m\u001b[43m \u001b[49m\u001b[43msample_weight\u001b[49m\u001b[43m,\u001b[49m\u001b[43m \u001b[49m\u001b[43mx_squared_norms\u001b[49m\u001b[43m,\u001b[49m\u001b[43m \u001b[49m\u001b[38;5;28;43mself\u001b[39;49m\u001b[38;5;241;43m.\u001b[39;49m\u001b[43mcluster_centers_\u001b[49m\u001b[43m,\u001b[49m\u001b[43m \u001b[49m\u001b[38;5;28;43mself\u001b[39;49m\u001b[38;5;241;43m.\u001b[39;49m\u001b[43m_n_threads\u001b[49m\n\u001b[0;32m   1336\u001b[0m \u001b[43m\u001b[49m\u001b[43m)\u001b[49m[\u001b[38;5;241m0\u001b[39m]\n",
      "File \u001b[1;32m~\\anaconda3\\lib\\site-packages\\sklearn\\cluster\\_kmeans.py:755\u001b[0m, in \u001b[0;36m_labels_inertia_threadpool_limit\u001b[1;34m(X, sample_weight, x_squared_norms, centers, n_threads)\u001b[0m\n\u001b[0;32m    751\u001b[0m \u001b[38;5;28;01mdef\u001b[39;00m \u001b[38;5;21m_labels_inertia_threadpool_limit\u001b[39m(\n\u001b[0;32m    752\u001b[0m     X, sample_weight, x_squared_norms, centers, n_threads\u001b[38;5;241m=\u001b[39m\u001b[38;5;241m1\u001b[39m\n\u001b[0;32m    753\u001b[0m ):\n\u001b[0;32m    754\u001b[0m     \u001b[38;5;124;03m\"\"\"Same as _labels_inertia but in a threadpool_limits context.\"\"\"\u001b[39;00m\n\u001b[1;32m--> 755\u001b[0m     \u001b[38;5;28;01mwith\u001b[39;00m \u001b[43mthreadpool_limits\u001b[49m\u001b[43m(\u001b[49m\u001b[43mlimits\u001b[49m\u001b[38;5;241;43m=\u001b[39;49m\u001b[38;5;241;43m1\u001b[39;49m\u001b[43m,\u001b[49m\u001b[43m \u001b[49m\u001b[43muser_api\u001b[49m\u001b[38;5;241;43m=\u001b[39;49m\u001b[38;5;124;43m\"\u001b[39;49m\u001b[38;5;124;43mblas\u001b[39;49m\u001b[38;5;124;43m\"\u001b[39;49m\u001b[43m)\u001b[49m:\n\u001b[0;32m    756\u001b[0m         labels, inertia \u001b[38;5;241m=\u001b[39m _labels_inertia(\n\u001b[0;32m    757\u001b[0m             X, sample_weight, x_squared_norms, centers, n_threads\n\u001b[0;32m    758\u001b[0m         )\n\u001b[0;32m    760\u001b[0m     \u001b[38;5;28;01mreturn\u001b[39;00m labels, inertia\n",
      "File \u001b[1;32m~\\anaconda3\\lib\\site-packages\\sklearn\\utils\\fixes.py:314\u001b[0m, in \u001b[0;36mthreadpool_limits\u001b[1;34m(limits, user_api)\u001b[0m\n\u001b[0;32m    312\u001b[0m     \u001b[38;5;28;01mreturn\u001b[39;00m controller\u001b[38;5;241m.\u001b[39mlimit(limits\u001b[38;5;241m=\u001b[39mlimits, user_api\u001b[38;5;241m=\u001b[39muser_api)\n\u001b[0;32m    313\u001b[0m \u001b[38;5;28;01melse\u001b[39;00m:\n\u001b[1;32m--> 314\u001b[0m     \u001b[38;5;28;01mreturn\u001b[39;00m \u001b[43mthreadpoolctl\u001b[49m\u001b[38;5;241;43m.\u001b[39;49m\u001b[43mthreadpool_limits\u001b[49m\u001b[43m(\u001b[49m\u001b[43mlimits\u001b[49m\u001b[38;5;241;43m=\u001b[39;49m\u001b[43mlimits\u001b[49m\u001b[43m,\u001b[49m\u001b[43m \u001b[49m\u001b[43muser_api\u001b[49m\u001b[38;5;241;43m=\u001b[39;49m\u001b[43muser_api\u001b[49m\u001b[43m)\u001b[49m\n",
      "File \u001b[1;32m~\\anaconda3\\lib\\site-packages\\threadpoolctl.py:171\u001b[0m, in \u001b[0;36mthreadpool_limits.__init__\u001b[1;34m(self, limits, user_api)\u001b[0m\n\u001b[0;32m    167\u001b[0m \u001b[38;5;28;01mdef\u001b[39;00m \u001b[38;5;21m__init__\u001b[39m(\u001b[38;5;28mself\u001b[39m, limits\u001b[38;5;241m=\u001b[39m\u001b[38;5;28;01mNone\u001b[39;00m, user_api\u001b[38;5;241m=\u001b[39m\u001b[38;5;28;01mNone\u001b[39;00m):\n\u001b[0;32m    168\u001b[0m     \u001b[38;5;28mself\u001b[39m\u001b[38;5;241m.\u001b[39m_limits, \u001b[38;5;28mself\u001b[39m\u001b[38;5;241m.\u001b[39m_user_api, \u001b[38;5;28mself\u001b[39m\u001b[38;5;241m.\u001b[39m_prefixes \u001b[38;5;241m=\u001b[39m \\\n\u001b[0;32m    169\u001b[0m         \u001b[38;5;28mself\u001b[39m\u001b[38;5;241m.\u001b[39m_check_params(limits, user_api)\n\u001b[1;32m--> 171\u001b[0m     \u001b[38;5;28mself\u001b[39m\u001b[38;5;241m.\u001b[39m_original_info \u001b[38;5;241m=\u001b[39m \u001b[38;5;28;43mself\u001b[39;49m\u001b[38;5;241;43m.\u001b[39;49m\u001b[43m_set_threadpool_limits\u001b[49m\u001b[43m(\u001b[49m\u001b[43m)\u001b[49m\n",
      "File \u001b[1;32m~\\anaconda3\\lib\\site-packages\\threadpoolctl.py:268\u001b[0m, in \u001b[0;36mthreadpool_limits._set_threadpool_limits\u001b[1;34m(self)\u001b[0m\n\u001b[0;32m    265\u001b[0m \u001b[38;5;28;01mif\u001b[39;00m \u001b[38;5;28mself\u001b[39m\u001b[38;5;241m.\u001b[39m_limits \u001b[38;5;129;01mis\u001b[39;00m \u001b[38;5;28;01mNone\u001b[39;00m:\n\u001b[0;32m    266\u001b[0m     \u001b[38;5;28;01mreturn\u001b[39;00m \u001b[38;5;28;01mNone\u001b[39;00m\n\u001b[1;32m--> 268\u001b[0m modules \u001b[38;5;241m=\u001b[39m \u001b[43m_ThreadpoolInfo\u001b[49m\u001b[43m(\u001b[49m\u001b[43mprefixes\u001b[49m\u001b[38;5;241;43m=\u001b[39;49m\u001b[38;5;28;43mself\u001b[39;49m\u001b[38;5;241;43m.\u001b[39;49m\u001b[43m_prefixes\u001b[49m\u001b[43m,\u001b[49m\n\u001b[0;32m    269\u001b[0m \u001b[43m                          \u001b[49m\u001b[43muser_api\u001b[49m\u001b[38;5;241;43m=\u001b[39;49m\u001b[38;5;28;43mself\u001b[39;49m\u001b[38;5;241;43m.\u001b[39;49m\u001b[43m_user_api\u001b[49m\u001b[43m)\u001b[49m\n\u001b[0;32m    270\u001b[0m \u001b[38;5;28;01mfor\u001b[39;00m module \u001b[38;5;129;01min\u001b[39;00m modules:\n\u001b[0;32m    271\u001b[0m     \u001b[38;5;66;03m# self._limits is a dict {key: num_threads} where key is either\u001b[39;00m\n\u001b[0;32m    272\u001b[0m     \u001b[38;5;66;03m# a prefix or a user_api. If a module matches both, the limit\u001b[39;00m\n\u001b[0;32m    273\u001b[0m     \u001b[38;5;66;03m# corresponding to the prefix is chosed.\u001b[39;00m\n\u001b[0;32m    274\u001b[0m     \u001b[38;5;28;01mif\u001b[39;00m module\u001b[38;5;241m.\u001b[39mprefix \u001b[38;5;129;01min\u001b[39;00m \u001b[38;5;28mself\u001b[39m\u001b[38;5;241m.\u001b[39m_limits:\n",
      "File \u001b[1;32m~\\anaconda3\\lib\\site-packages\\threadpoolctl.py:340\u001b[0m, in \u001b[0;36m_ThreadpoolInfo.__init__\u001b[1;34m(self, user_api, prefixes, modules)\u001b[0m\n\u001b[0;32m    337\u001b[0m     \u001b[38;5;28mself\u001b[39m\u001b[38;5;241m.\u001b[39muser_api \u001b[38;5;241m=\u001b[39m [] \u001b[38;5;28;01mif\u001b[39;00m user_api \u001b[38;5;129;01mis\u001b[39;00m \u001b[38;5;28;01mNone\u001b[39;00m \u001b[38;5;28;01melse\u001b[39;00m user_api\n\u001b[0;32m    339\u001b[0m     \u001b[38;5;28mself\u001b[39m\u001b[38;5;241m.\u001b[39mmodules \u001b[38;5;241m=\u001b[39m []\n\u001b[1;32m--> 340\u001b[0m     \u001b[38;5;28;43mself\u001b[39;49m\u001b[38;5;241;43m.\u001b[39;49m\u001b[43m_load_modules\u001b[49m\u001b[43m(\u001b[49m\u001b[43m)\u001b[49m\n\u001b[0;32m    341\u001b[0m     \u001b[38;5;28mself\u001b[39m\u001b[38;5;241m.\u001b[39m_warn_if_incompatible_openmp()\n\u001b[0;32m    342\u001b[0m \u001b[38;5;28;01melse\u001b[39;00m:\n",
      "File \u001b[1;32m~\\anaconda3\\lib\\site-packages\\threadpoolctl.py:373\u001b[0m, in \u001b[0;36m_ThreadpoolInfo._load_modules\u001b[1;34m(self)\u001b[0m\n\u001b[0;32m    371\u001b[0m     \u001b[38;5;28mself\u001b[39m\u001b[38;5;241m.\u001b[39m_find_modules_with_dyld()\n\u001b[0;32m    372\u001b[0m \u001b[38;5;28;01melif\u001b[39;00m sys\u001b[38;5;241m.\u001b[39mplatform \u001b[38;5;241m==\u001b[39m \u001b[38;5;124m\"\u001b[39m\u001b[38;5;124mwin32\u001b[39m\u001b[38;5;124m\"\u001b[39m:\n\u001b[1;32m--> 373\u001b[0m     \u001b[38;5;28;43mself\u001b[39;49m\u001b[38;5;241;43m.\u001b[39;49m\u001b[43m_find_modules_with_enum_process_module_ex\u001b[49m\u001b[43m(\u001b[49m\u001b[43m)\u001b[49m\n\u001b[0;32m    374\u001b[0m \u001b[38;5;28;01melse\u001b[39;00m:\n\u001b[0;32m    375\u001b[0m     \u001b[38;5;28mself\u001b[39m\u001b[38;5;241m.\u001b[39m_find_modules_with_dl_iterate_phdr()\n",
      "File \u001b[1;32m~\\anaconda3\\lib\\site-packages\\threadpoolctl.py:485\u001b[0m, in \u001b[0;36m_ThreadpoolInfo._find_modules_with_enum_process_module_ex\u001b[1;34m(self)\u001b[0m\n\u001b[0;32m    482\u001b[0m         filepath \u001b[38;5;241m=\u001b[39m buf\u001b[38;5;241m.\u001b[39mvalue\n\u001b[0;32m    484\u001b[0m         \u001b[38;5;66;03m# Store the module if it is supported and selected\u001b[39;00m\n\u001b[1;32m--> 485\u001b[0m         \u001b[38;5;28;43mself\u001b[39;49m\u001b[38;5;241;43m.\u001b[39;49m\u001b[43m_make_module_from_path\u001b[49m\u001b[43m(\u001b[49m\u001b[43mfilepath\u001b[49m\u001b[43m)\u001b[49m\n\u001b[0;32m    486\u001b[0m \u001b[38;5;28;01mfinally\u001b[39;00m:\n\u001b[0;32m    487\u001b[0m     kernel_32\u001b[38;5;241m.\u001b[39mCloseHandle(h_process)\n",
      "File \u001b[1;32m~\\anaconda3\\lib\\site-packages\\threadpoolctl.py:515\u001b[0m, in \u001b[0;36m_ThreadpoolInfo._make_module_from_path\u001b[1;34m(self, filepath)\u001b[0m\n\u001b[0;32m    513\u001b[0m \u001b[38;5;28;01mif\u001b[39;00m prefix \u001b[38;5;129;01min\u001b[39;00m \u001b[38;5;28mself\u001b[39m\u001b[38;5;241m.\u001b[39mprefixes \u001b[38;5;129;01mor\u001b[39;00m user_api \u001b[38;5;129;01min\u001b[39;00m \u001b[38;5;28mself\u001b[39m\u001b[38;5;241m.\u001b[39muser_api:\n\u001b[0;32m    514\u001b[0m     module_class \u001b[38;5;241m=\u001b[39m \u001b[38;5;28mglobals\u001b[39m()[module_class]\n\u001b[1;32m--> 515\u001b[0m     module \u001b[38;5;241m=\u001b[39m \u001b[43mmodule_class\u001b[49m\u001b[43m(\u001b[49m\u001b[43mfilepath\u001b[49m\u001b[43m,\u001b[49m\u001b[43m \u001b[49m\u001b[43mprefix\u001b[49m\u001b[43m,\u001b[49m\u001b[43m \u001b[49m\u001b[43muser_api\u001b[49m\u001b[43m,\u001b[49m\u001b[43m \u001b[49m\u001b[43minternal_api\u001b[49m\u001b[43m)\u001b[49m\n\u001b[0;32m    516\u001b[0m     \u001b[38;5;28mself\u001b[39m\u001b[38;5;241m.\u001b[39mmodules\u001b[38;5;241m.\u001b[39mappend(module)\n",
      "File \u001b[1;32m~\\anaconda3\\lib\\site-packages\\threadpoolctl.py:606\u001b[0m, in \u001b[0;36m_Module.__init__\u001b[1;34m(self, filepath, prefix, user_api, internal_api)\u001b[0m\n\u001b[0;32m    604\u001b[0m \u001b[38;5;28mself\u001b[39m\u001b[38;5;241m.\u001b[39minternal_api \u001b[38;5;241m=\u001b[39m internal_api\n\u001b[0;32m    605\u001b[0m \u001b[38;5;28mself\u001b[39m\u001b[38;5;241m.\u001b[39m_dynlib \u001b[38;5;241m=\u001b[39m ctypes\u001b[38;5;241m.\u001b[39mCDLL(filepath, mode\u001b[38;5;241m=\u001b[39m_RTLD_NOLOAD)\n\u001b[1;32m--> 606\u001b[0m \u001b[38;5;28mself\u001b[39m\u001b[38;5;241m.\u001b[39mversion \u001b[38;5;241m=\u001b[39m \u001b[38;5;28;43mself\u001b[39;49m\u001b[38;5;241;43m.\u001b[39;49m\u001b[43mget_version\u001b[49m\u001b[43m(\u001b[49m\u001b[43m)\u001b[49m\n\u001b[0;32m    607\u001b[0m \u001b[38;5;28mself\u001b[39m\u001b[38;5;241m.\u001b[39mnum_threads \u001b[38;5;241m=\u001b[39m \u001b[38;5;28mself\u001b[39m\u001b[38;5;241m.\u001b[39mget_num_threads()\n\u001b[0;32m    608\u001b[0m \u001b[38;5;28mself\u001b[39m\u001b[38;5;241m.\u001b[39m_get_extra_info()\n",
      "File \u001b[1;32m~\\anaconda3\\lib\\site-packages\\threadpoolctl.py:646\u001b[0m, in \u001b[0;36m_OpenBLASModule.get_version\u001b[1;34m(self)\u001b[0m\n\u001b[0;32m    643\u001b[0m get_config \u001b[38;5;241m=\u001b[39m \u001b[38;5;28mgetattr\u001b[39m(\u001b[38;5;28mself\u001b[39m\u001b[38;5;241m.\u001b[39m_dynlib, \u001b[38;5;124m\"\u001b[39m\u001b[38;5;124mopenblas_get_config\u001b[39m\u001b[38;5;124m\"\u001b[39m,\n\u001b[0;32m    644\u001b[0m                      \u001b[38;5;28;01mlambda\u001b[39;00m: \u001b[38;5;28;01mNone\u001b[39;00m)\n\u001b[0;32m    645\u001b[0m get_config\u001b[38;5;241m.\u001b[39mrestype \u001b[38;5;241m=\u001b[39m ctypes\u001b[38;5;241m.\u001b[39mc_char_p\n\u001b[1;32m--> 646\u001b[0m config \u001b[38;5;241m=\u001b[39m \u001b[43mget_config\u001b[49m\u001b[43m(\u001b[49m\u001b[43m)\u001b[49m\u001b[38;5;241;43m.\u001b[39;49m\u001b[43msplit\u001b[49m()\n\u001b[0;32m    647\u001b[0m \u001b[38;5;28;01mif\u001b[39;00m config[\u001b[38;5;241m0\u001b[39m] \u001b[38;5;241m==\u001b[39m \u001b[38;5;124mb\u001b[39m\u001b[38;5;124m\"\u001b[39m\u001b[38;5;124mOpenBLAS\u001b[39m\u001b[38;5;124m\"\u001b[39m:\n\u001b[0;32m    648\u001b[0m     \u001b[38;5;28;01mreturn\u001b[39;00m config[\u001b[38;5;241m1\u001b[39m]\u001b[38;5;241m.\u001b[39mdecode(\u001b[38;5;124m\"\u001b[39m\u001b[38;5;124mutf-8\u001b[39m\u001b[38;5;124m\"\u001b[39m)\n",
      "\u001b[1;31mAttributeError\u001b[0m: 'NoneType' object has no attribute 'split'"
     ]
    }
   ],
   "source": [
    "from sklearn.cluster import KMeans\n",
    "import numpy as np\n",
    "X = np.array([[1, 2], [1, 4], [1, 0],\n",
    "              [10, 2], [10, 4], [10, 0]])\n",
    "kmeans = KMeans(n_clusters=2, random_state=0).fit(X)\n",
    "kmeans.labels_\n",
    "\n",
    "kmeans.predict([[0, 0], [12, 3]])\n",
    "\n",
    "kmeans.cluster_centers_"
   ]
  },
  {
   "cell_type": "code",
   "execution_count": 48,
   "id": "6258d177",
   "metadata": {},
   "outputs": [
    {
     "name": "stdout",
     "output_type": "stream",
     "text": [
      "Name: scikit-learn\n",
      "Version: 1.0.2\n",
      "Summary: A set of python modules for machine learning and data mining\n",
      "Home-page: http://scikit-learn.org\n",
      "Author: \n",
      "Author-email: \n",
      "License: new BSD\n",
      "Location: c:\\users\\91766\\anaconda3\\lib\\site-packages\n",
      "Requires: numpy, threadpoolctl, scipy, joblib\n",
      "Required-by: scikit-learn-intelex\n"
     ]
    }
   ],
   "source": [
    "!pip show scikit-learn"
   ]
  },
  {
   "cell_type": "code",
   "execution_count": null,
   "id": "e1e65d24",
   "metadata": {},
   "outputs": [],
   "source": []
  }
 ],
 "metadata": {
  "kernelspec": {
   "display_name": "Python 3 (ipykernel)",
   "language": "python",
   "name": "python3"
  },
  "language_info": {
   "codemirror_mode": {
    "name": "ipython",
    "version": 3
   },
   "file_extension": ".py",
   "mimetype": "text/x-python",
   "name": "python",
   "nbconvert_exporter": "python",
   "pygments_lexer": "ipython3",
   "version": "3.9.12"
  }
 },
 "nbformat": 4,
 "nbformat_minor": 5
}
