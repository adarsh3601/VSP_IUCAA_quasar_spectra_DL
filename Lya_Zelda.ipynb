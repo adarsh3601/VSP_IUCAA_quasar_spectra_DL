{
  "nbformat": 4,
  "nbformat_minor": 0,
  "metadata": {
    "colab": {
      "provenance": []
    },
    "kernelspec": {
      "name": "python3",
      "display_name": "Python 3"
    },
    "language_info": {
      "name": "python"
    }
  },
  "cells": [
    {
      "cell_type": "code",
      "execution_count": null,
      "metadata": {
        "id": "YP-LS9WGlwVD",
        "colab": {
          "base_uri": "https://localhost:8080/"
        },
        "outputId": "4e583970-fa59-4f8d-fadf-bbf212d43262"
      },
      "outputs": [
        {
          "output_type": "stream",
          "name": "stdout",
          "text": [
            "Looking in indexes: https://pypi.org/simple, https://us-python.pkg.dev/colab-wheels/public/simple/\n",
            "Requirement already satisfied: Lya_zelda in /usr/local/lib/python3.7/dist-packages (0.0.5)\n",
            "Requirement already satisfied: scikit-learn>=0.22.1 in /usr/local/lib/python3.7/dist-packages (from Lya_zelda) (1.0.2)\n",
            "Requirement already satisfied: emcee in /usr/local/lib/python3.7/dist-packages (from Lya_zelda) (3.1.2)\n",
            "Requirement already satisfied: pyswarms in /usr/local/lib/python3.7/dist-packages (from Lya_zelda) (1.3.0)\n",
            "Requirement already satisfied: threadpoolctl>=2.0.0 in /usr/local/lib/python3.7/dist-packages (from scikit-learn>=0.22.1->Lya_zelda) (3.1.0)\n",
            "Requirement already satisfied: scipy>=1.1.0 in /usr/local/lib/python3.7/dist-packages (from scikit-learn>=0.22.1->Lya_zelda) (1.4.1)\n",
            "Requirement already satisfied: numpy>=1.14.6 in /usr/local/lib/python3.7/dist-packages (from scikit-learn>=0.22.1->Lya_zelda) (1.21.6)\n",
            "Requirement already satisfied: joblib>=0.11 in /usr/local/lib/python3.7/dist-packages (from scikit-learn>=0.22.1->Lya_zelda) (1.1.0)\n",
            "Requirement already satisfied: matplotlib>=1.3.1 in /usr/local/lib/python3.7/dist-packages (from pyswarms->Lya_zelda) (3.2.2)\n",
            "Requirement already satisfied: pyyaml in /usr/local/lib/python3.7/dist-packages (from pyswarms->Lya_zelda) (3.13)\n",
            "Requirement already satisfied: attrs in /usr/local/lib/python3.7/dist-packages (from pyswarms->Lya_zelda) (21.4.0)\n",
            "Requirement already satisfied: future in /usr/local/lib/python3.7/dist-packages (from pyswarms->Lya_zelda) (0.16.0)\n",
            "Requirement already satisfied: tqdm in /usr/local/lib/python3.7/dist-packages (from pyswarms->Lya_zelda) (4.64.0)\n",
            "Requirement already satisfied: python-dateutil>=2.1 in /usr/local/lib/python3.7/dist-packages (from matplotlib>=1.3.1->pyswarms->Lya_zelda) (2.8.2)\n",
            "Requirement already satisfied: cycler>=0.10 in /usr/local/lib/python3.7/dist-packages (from matplotlib>=1.3.1->pyswarms->Lya_zelda) (0.11.0)\n",
            "Requirement already satisfied: pyparsing!=2.0.4,!=2.1.2,!=2.1.6,>=2.0.1 in /usr/local/lib/python3.7/dist-packages (from matplotlib>=1.3.1->pyswarms->Lya_zelda) (3.0.9)\n",
            "Requirement already satisfied: kiwisolver>=1.0.1 in /usr/local/lib/python3.7/dist-packages (from matplotlib>=1.3.1->pyswarms->Lya_zelda) (1.4.3)\n",
            "Requirement already satisfied: typing-extensions in /usr/local/lib/python3.7/dist-packages (from kiwisolver>=1.0.1->matplotlib>=1.3.1->pyswarms->Lya_zelda) (4.1.1)\n",
            "Requirement already satisfied: six>=1.5 in /usr/local/lib/python3.7/dist-packages (from python-dateutil>=2.1->matplotlib>=1.3.1->pyswarms->Lya_zelda) (1.15.0)\n"
          ]
        }
      ],
      "source": [
        "pip install Lya_zelda"
      ]
    },
    {
      "cell_type": "code",
      "source": [
        "import Lya_zelda as Lya\n",
        "\n",
        "your_grids_location = '/content/drive/MyDrive/Zelda/Grids'\n",
        "\n",
        "Lya.funcs.Data_location = your_grids_location"
      ],
      "metadata": {
        "id": "Qq5BWUicmObi"
      },
      "execution_count": null,
      "outputs": []
    },
    {
      "cell_type": "code",
      "source": [
        "Geometry = 'Thin_Shell_Cont'"
      ],
      "metadata": {
        "id": "fPmHd54hmntm"
      },
      "execution_count": null,
      "outputs": []
    },
    {
      "cell_type": "code",
      "source": [
        "LyaRT_Grid = Lya.load_Grid_Line( Geometry , MODE='LIGHT' )"
      ],
      "metadata": {
        "id": "gQk2WQUhmsaq"
      },
      "execution_count": null,
      "outputs": []
    },
    {
      "cell_type": "markdown",
      "source": [
        "Ideal Line Profile"
      ],
      "metadata": {
        "id": "qHshMbT7nSgt"
      }
    },
    {
      "cell_type": "code",
      "source": [
        "V_Value     = 50.0  # Outflow expansion velocity [km/s]\n",
        "\n",
        "logNH_Value = 20.   # Logarithmic of the neutral hydrogen column density [cm**-2]\n",
        "\n",
        "ta_Value    = 0.01  # Dust optical depth\n",
        "\n",
        "logEW_Value = 1.5   # Logarithmic the intrinsic equivalent width [A]\n",
        "\n",
        "Wi_Value    = 0.5   # Intrinsic width of the line [A]"
      ],
      "metadata": {
        "id": "Aa81HZG7msdS"
      },
      "execution_count": null,
      "outputs": []
    },
    {
      "cell_type": "code",
      "source": [
        "import numpy as np\n",
        "\n",
        "w_Lya = 1215.68 # Lyman-alpha wavelength in amstrongs\n",
        "\n",
        "wavelength_Arr = np.linspace( w_Lya-10 , w_Lya+10 , 1000 ) * 1e-10"
      ],
      "metadata": {
        "id": "Mlkmjep8msf5"
      },
      "execution_count": null,
      "outputs": []
    },
    {
      "cell_type": "code",
      "source": [
        "Line_Arr = Lya.RT_Line_Profile_MCMC( Geometry , wavelength_Arr , V_Value , logNH_Value , ta_Value , LyaRT_Grid , logEW_Value=logEW_Value , Wi_Value=Wi_Value )"
      ],
      "metadata": {
        "id": "OiyCOPP8m_wu"
      },
      "execution_count": null,
      "outputs": []
    },
    {
      "cell_type": "code",
      "source": [
        "import pylab as plt\n",
        "\n",
        "plt.plot( wavelength_Arr *1e10 , Line_Arr )\n",
        "\n",
        "plt.xlabel('wavelength[A]' , size=15 )\n",
        "\n",
        "plt.ylabel('Flux density [a.u.]' , size=15 )\n",
        "\n",
        "plt.show()"
      ],
      "metadata": {
        "colab": {
          "base_uri": "https://localhost:8080/",
          "height": 284
        },
        "id": "SV1T35BXm_3o",
        "outputId": "f9c81a12-9702-4327-acd8-9102e477e3c6"
      },
      "execution_count": null,
      "outputs": [
        {
          "output_type": "display_data",
          "data": {
            "text/plain": [
              "<Figure size 432x288 with 1 Axes>"
            ],
            "image/png": "[encoded data removed]"
          },
          "metadata": {
            "needs_background": "light"
          }
        }
      ]
    },
    {
      "cell_type": "markdown",
      "source": [
        "Computing mock Lyman Alpha profiles"
      ],
      "metadata": {
        "id": "S7q2Sf8JnKzK"
      }
    },
    {
      "cell_type": "code",
      "source": [
        "z_t      = 0.5   # redshift of the source\n",
        "\n",
        "V_t      = 50.0  # Outfloe expansion velocity [km/s]\n",
        "\n",
        "log_N_t  = 20.   # Logarithmic of the neutral hydrogen column density [cm**-2]\n",
        "\n",
        "t_t      = 0.01  # Dust optical depth\n",
        "\n",
        "log_EW_t = 1.5   # Logarithmic the intrinsic equivalent width [A]\n",
        "\n",
        "W_t      = 0.5   # Intrinsic width of the line [A]\n",
        "\n",
        "F_t      = 1.    # Total flux of the line"
      ],
      "metadata": {
        "id": "Iumzkvo3m_8l"
      },
      "execution_count": null,
      "outputs": []
    },
    {
      "cell_type": "code",
      "source": [
        "PNR_t  = 10.0 # Signal to noise ratio of the maximum of the line.\n",
        "\n",
        "FWHM_t = 0.5  # Full width half maximum diluting the line. Mimics finite resolution. [A]\n",
        "\n",
        "PIX_t  = 0.2  # Wavelength binning of the line. [A]"
      ],
      "metadata": {
        "id": "-hREnEzwoB89"
      },
      "execution_count": null,
      "outputs": []
    },
    {
      "cell_type": "code",
      "source": [
        "w_Arr , f_Arr , _ = Lya.Generate_a_real_line( z_t , V_t, log_N_t, t_t, F_t, log_EW_t, W_t , PNR_t, FWHM_t, PIX_t, LyaRT_Grid, Geometry )"
      ],
      "metadata": {
        "id": "D9fzUCaloDe4"
      },
      "execution_count": null,
      "outputs": []
    },
    {
      "cell_type": "code",
      "source": [
        "import pylab as plt\n",
        "\n",
        "plt.plot( w_Arr , f_Arr )\n",
        "\n",
        "plt.xlabel('wavelength[A]' , size=15 )\n",
        "\n",
        "plt.ylabel('Flux density [a.u.]' , size=15 )\n",
        "\n",
        "plt.xlim(1815,1835)\n",
        "\n",
        "plt.show()"
      ],
      "metadata": {
        "colab": {
          "base_uri": "https://localhost:8080/",
          "height": 284
        },
        "id": "Sv8aP0G9oF0D",
        "outputId": "db1aeae2-565b-4a81-8a76-baa541899c21"
      },
      "execution_count": null,
      "outputs": [
        {
          "output_type": "display_data",
          "data": {
            "text/plain": [
              "<Figure size 432x288 with 1 Axes>"
            ],
            "image/png": "[encoded data removed]"
          },
          "metadata": {
            "needs_background": "light"
          }
        }
      ]
    },
    {
      "cell_type": "code",
      "source": [
        "w_pix_Arr , f_pix_Arr = Lya.plot_a_rebinned_line( w_Arr , f_Arr , PIX_t )\n",
        "\n",
        "plt.plot( w_pix_Arr , f_pix_Arr )\n",
        "\n",
        "plt.xlabel('wavelength[A]' , size=15 )\n",
        "\n",
        "plt.ylabel('Flux density [a.u.]' , size=15 )\n",
        "\n",
        "plt.xlim(1815,1835)\n",
        "\n",
        "plt.show()"
      ],
      "metadata": {
        "colab": {
          "base_uri": "https://localhost:8080/",
          "height": 284
        },
        "id": "rAepszvhoMHC",
        "outputId": "ae2f105a-d057-42dc-b5a6-6c8a6d823300"
      },
      "execution_count": null,
      "outputs": [
        {
          "output_type": "display_data",
          "data": {
            "text/plain": [
              "<Figure size 432x288 with 1 Axes>"
            ],
            "image/png": "[encoded data removed]"
          },
          "metadata": {
            "needs_background": "light"
          }
        }
      ]
    },
    {
      "cell_type": "markdown",
      "source": [
        "Fitting Line using Deep Learning"
      ],
      "metadata": {
        "id": "k54qi_lRoJTW"
      }
    },
    {
      "cell_type": "code",
      "source": [
        "# Defining the model parameters:\n",
        "\n",
        "z_t      = 0.5   # redshift of the source\n",
        "\n",
        "V_t      = 50.0  # Outflow expansion velocity [km/s]\n",
        "\n",
        "log_N_t  = 20.   # Logarithmic of the neutral hydrogen column density [cm**-2]\n",
        "\n",
        "t_t      = 0.01  # Dust optical depth\n",
        "\n",
        "log_EW_t = 1.5   # Logarithmic the intrinsic equivalent width [A]\n",
        "\n",
        "W_t      = 0.5   # Intrinsic width of the line [A]\n",
        "\n",
        "F_t      = 1.    # Total flux of the line\n",
        "\n",
        "# Defining the quality of the line profile:\n",
        "\n",
        "PNR_t  = 15.0 # Signal to noise ratio of the maximum of the line.\n",
        "\n",
        "FWHM_t = 0.2  # Full width half maximum diluting the line. Mimics finite resolution. [A]\n",
        "\n",
        "PIX_t  = 0.1  # Wavelength binning of the line. [A]\n",
        "\n",
        "w_Arr , f_Arr , s_Arr = Lya.Generate_a_real_line( z_t , V_t, log_N_t, t_t, F_t, log_EW_t, W_t , PNR_t, FWHM_t, PIX_t, LyaRT_Grid, Geometry )"
      ],
      "metadata": {
        "id": "VgvYOhlKoH1k"
      },
      "execution_count": null,
      "outputs": []
    },
    {
      "cell_type": "code",
      "source": [
        "w_Arr , f_Arr , s_Arr  = Lya.Generate_a_real_line( z_t , V_t, log_N_t, t_t, F_t, log_EW_t, W_t , PNR_t, FWHM_t, PIX_t, LyaRT_Grid, Geometry )\n",
        "\n",
        "w_pix_Arr , f_pix_Arr = Lya.plot_a_rebinned_line( w_Arr , f_Arr , PIX_t )\n",
        "\n",
        "import pylab as plt\n",
        "\n",
        "plt.plot( w_pix_Arr , f_pix_Arr )\n",
        "\n",
        "plt.xlabel('wavelength[A]' , size=15 )\n",
        "\n",
        "plt.ylabel('Flux density [a.u.]' , size=15 )\n",
        "\n",
        "plt.xlim(1815,1835)\n",
        "\n",
        "plt.show()"
      ],
      "metadata": {
        "colab": {
          "base_uri": "https://localhost:8080/",
          "height": 284
        },
        "id": "cpofaWHmoXD-",
        "outputId": "c6963acf-03ae-43c1-c7a7-9a94a7a63031"
      },
      "execution_count": null,
      "outputs": [
        {
          "output_type": "display_data",
          "data": {
            "text/plain": [
              "<Figure size 432x288 with 1 Axes>"
            ],
            "image/png": "[encoded data removed]"
          },
          "metadata": {
            "needs_background": "light"
          }
        }
      ]
    },
    {
      "cell_type": "code",
      "source": [
        "machine_data =  Lya.Load_NN_model( 'Outflow' )"
      ],
      "metadata": {
        "colab": {
          "base_uri": "https://localhost:8080/"
        },
        "id": "F2D_Q-QqoZkq",
        "outputId": "36515166-9452-4549-df09-21f1a710ddd9"
      },
      "execution_count": null,
      "outputs": [
        {
          "output_type": "stream",
          "name": "stderr",
          "text": [
            "/usr/local/lib/python3.7/dist-packages/sklearn/base.py:338: UserWarning: Trying to unpickle estimator MLPRegressor from version 0.22.1 when using version 1.0.2. This might lead to breaking code or invalid results. Use at your own risk. For more info please refer to:\n",
            "https://scikit-learn.org/stable/modules/model_persistence.html#security-maintainability-limitations\n",
            "  UserWarning,\n"
          ]
        }
      ]
    },
    {
      "cell_type": "code",
      "source": [
        "machine    = machine_data['Machine' ]\n",
        "\n",
        "w_rest_Arr = machine_data[ 'w_rest' ]"
      ],
      "metadata": {
        "id": "LYK7h02xocfa"
      },
      "execution_count": null,
      "outputs": []
    },
    {
      "cell_type": "code",
      "source": [
        "Sol , z_sol = Lya.NN_measure( w_Arr , f_Arr , s_Arr , FWHM_t , PIX_t , machine , w_rest_Arr , N_iter=None )"
      ],
      "metadata": {
        "id": "KektknTNogfV"
      },
      "execution_count": null,
      "outputs": []
    },
    {
      "cell_type": "code",
      "source": [
        "print( 'The measured redshift                                                     is' , z_sol    )\n",
        "\n",
        "print( 'The measured logarithm of the expasion velocity                           is' , Sol[0,1] )\n",
        "\n",
        "print( 'The measured logarithm of the HI column density                           is' , Sol[0,2] )\n",
        "\n",
        "print( 'The measured logarithm of the dust optical depth                          is' , Sol[0,3] )\n",
        "\n",
        "print( 'The measured logarithm of the intrinsic equivalent width                  is' , Sol[0,4] )\n",
        "\n",
        "print( 'The measured logarithm of the intrinsic            width                  is' , Sol[0,5] )\n",
        "\n",
        "print( 'The measured shift of the true Lya wavelgnth from the maximum of the line is' , Sol[0,0] )  "
      ],
      "metadata": {
        "colab": {
          "base_uri": "https://localhost:8080/"
        },
        "id": "BuMfEmb3ojFK",
        "outputId": "2b3051fd-00df-4dce-adde-80bd48481e52"
      },
      "execution_count": null,
      "outputs": [
        {
          "output_type": "stream",
          "name": "stdout",
          "text": [
            "The measured redshift                                                     is 0.4998599194108473\n",
            "The measured logarithm of the expasion velocity                           is 1.6037403480453423\n",
            "The measured logarithm of the HI column density                           is 20.159180255635867\n",
            "The measured logarithm of the dust optical depth                          is -0.6143229784250595\n",
            "The measured logarithm of the intrinsic equivalent width                  is 2.075384926648412\n",
            "The measured logarithm of the intrinsic            width                  is -0.34896800859103494\n",
            "The measured shift of the true Lya wavelgnth from the maximum of the line is -1.3454995905666332\n"
          ]
        }
      ]
    },
    {
      "cell_type": "code",
      "source": [
        "PNR = 100000. # let's put infinite signal to noise in the model line\n",
        "\n",
        "V_sol    = 10**Sol[0,1] # Expansion velocity km/s\n",
        "\n",
        "logN_sol =     Sol[0,2] # log of HI column density cm**-2\n",
        "\n",
        "t_sol    = 10**Sol[0,3] # dust optical depth\n",
        "\n",
        "logE_sol =     Sol[0,4] # log intrinsic EW [A]\n",
        "\n",
        "W_sol    = 10**Sol[0,5] # intrinsic width [A]"
      ],
      "metadata": {
        "id": "vlyV-KusqTsN"
      },
      "execution_count": null,
      "outputs": []
    },
    {
      "cell_type": "code",
      "source": [
        "w_One_Arr , f_One_Arr , _  = Lya.Generate_a_real_line( z_sol , V_sol, logN_sol, t_sol, F_t, logE_sol, W_sol, PNR, FWHM_t, PIX_t, LyaRT_Grid, Geometry )\n"
      ],
      "metadata": {
        "id": "E_OrvGZuqcwv"
      },
      "execution_count": null,
      "outputs": []
    },
    {
      "cell_type": "code",
      "source": [
        "w_pix_One_Arr , f_pix_One_Arr = Lya.plot_a_rebinned_line( w_One_Arr , f_One_Arr , PIX_t )\n",
        "\n",
        "plt.plot( w_pix_Arr     , f_pix_Arr     , label='Target' )\n",
        "\n",
        "plt.plot( w_pix_One_Arr , f_pix_One_Arr , label='1 iter' )\n",
        "\n",
        "plt.legend(loc=0)\n",
        "\n",
        "plt.xlabel('wavelength[A]' , size=15 )\n",
        "\n",
        "plt.ylabel('Flux density [a.u.]' , size=15 )\n",
        "\n",
        "plt.xlim(1815,1835)\n",
        "\n",
        "plt.show()"
      ],
      "metadata": {
        "colab": {
          "base_uri": "https://localhost:8080/",
          "height": 284
        },
        "id": "zawQPfbYqfX-",
        "outputId": "a8625068-5aa0-476d-b522-eafbd4129a18"
      },
      "execution_count": null,
      "outputs": [
        {
          "output_type": "display_data",
          "data": {
            "text/plain": [
              "<Figure size 432x288 with 1 Axes>"
            ],
            "image/png": "[encoded data removed]"
          },
          "metadata": {
            "needs_background": "light"
          }
        }
      ]
    },
    {
      "cell_type": "markdown",
      "source": [
        "Using DNN with MC"
      ],
      "metadata": {
        "id": "cPu-sVZhs1AD"
      }
    },
    {
      "cell_type": "code",
      "source": [
        "Sol , z_sol , log_V_Arr , log_N_Arr , log_t_Arr , z_Arr , log_E_Arr , log_W_Arr = Lya.NN_measure( w_Arr , f_Arr , s_Arr , FWHM_t , PIX_t , machine , w_rest_Arr , N_iter=1000 )"
      ],
      "metadata": {
        "id": "tRya8nyoqia1"
      },
      "execution_count": null,
      "outputs": []
    },
    {
      "cell_type": "code",
      "source": [
        "import numpy as np\n",
        "\n",
        "# Redshitft\n",
        "\n",
        "z_50     = np.percentile(    z_Arr , 50 )\n",
        "\n",
        "z_16     = np.percentile(    z_Arr , 16 )\n",
        "\n",
        "z_84     = np.percentile(    z_Arr , 84 )\n",
        "\n",
        "# Expansion velocity\n",
        "\n",
        "V_50     = 10 ** np.percentile( log_V_Arr , 50 )\n",
        "\n",
        "V_16     = 10 ** np.percentile( log_V_Arr , 16 )\n",
        "\n",
        "V_84     = 10 ** np.percentile( log_V_Arr , 84 )\n",
        "\n",
        "# Logarithmic of HI column density\n",
        "\n",
        "log_N_50 = np.percentile( log_N_Arr , 50 )\n",
        "\n",
        "log_N_16 = np.percentile( log_N_Arr , 16 )\n",
        "\n",
        "log_N_84 = np.percentile( log_N_Arr , 84 )\n",
        "\n",
        "# Dust optical depth\n",
        "\n",
        "t_50     = 10 ** np.percentile( log_t_Arr , 50 )\n",
        "\n",
        "t_16     = 10 ** np.percentile( log_t_Arr , 16 )\n",
        "\n",
        "t_84     = 10 ** np.percentile( log_t_Arr , 84 )\n",
        "\n",
        "# Logarithmic of intrinsic equivalent width\n",
        "\n",
        "log_E_50 = np.percentile( log_E_Arr , 50 )\n",
        "\n",
        "log_E_16 = np.percentile( log_E_Arr , 16 )\n",
        "\n",
        "log_E_84 = np.percentile( log_E_Arr , 84 )\n",
        "\n",
        "# Intrinsic width\n",
        "\n",
        "W_50     = 10 ** np.percentile( log_W_Arr , 50 )\n",
        "\n",
        "W_16     = 10 ** np.percentile( log_W_Arr , 16 )\n",
        "\n",
        "W_84     = 10 ** np.percentile( log_W_Arr , 84 )\n",
        "\n"
      ],
      "metadata": {
        "id": "IFDaF0wCs4z7"
      },
      "execution_count": null,
      "outputs": []
    },
    {
      "cell_type": "code",
      "source": [
        "# Compute the 100 iterations line profile\n",
        "\n",
        "w_50th_Arr , f_50th_Arr , _  = Lya.Generate_a_real_line( z_50 , V_50, log_N_50, t_50, F_t, log_E_50, W_50, PNR, FWHM_t, PIX_t, LyaRT_Grid, Geometry )\n",
        "\n",
        "# Get cooler profiles\n",
        "\n",
        "w_pix_50th_Arr , f_pix_50th_Arr = Lya.plot_a_rebinned_line( w_50th_Arr , f_50th_Arr , PIX_t )\n",
        "\n",
        "# Plot\n",
        "\n",
        "plt.plot( w_pix_Arr      , f_pix_Arr      , label='Target'   )\n",
        "\n",
        "plt.plot( w_pix_One_Arr  , f_pix_One_Arr  , label='1 iter'   )\n",
        "\n",
        "plt.plot( w_pix_50th_Arr , f_pix_50th_Arr , label='1000 iter')\n",
        "\n",
        "plt.legend(loc=0)\n",
        "\n",
        "plt.xlabel('wavelength[A]' , size=15 )\n",
        "\n",
        "plt.ylabel('Flux density [a.u.]' , size=15 )\n",
        "\n",
        "plt.xlim(1815,1835)\n",
        "\n",
        "plt.show()"
      ],
      "metadata": {
        "id": "JC3K4xZru5jg",
        "colab": {
          "base_uri": "https://localhost:8080/",
          "height": 284
        },
        "outputId": "0e90547d-9018-4b61-9328-7276bd4bc198"
      },
      "execution_count": null,
      "outputs": [
        {
          "output_type": "display_data",
          "data": {
            "text/plain": [
              "<Figure size 432x288 with 1 Axes>"
            ],
            "image/png": "[encoded data removed]"
          },
          "metadata": {
            "needs_background": "light"
          }
        }
      ]
    },
    {
      "cell_type": "markdown",
      "source": [
        "Train your own Neural Network"
      ],
      "metadata": {
        "id": "CjSqPl7xjaIv"
      }
    },
    {
      "cell_type": "code",
      "source": [
        "import numpy as np\n",
        "\n",
        "import Lya_zelda as Lya\n",
        "\n",
        "import pickle\n",
        "\n",
        "from sklearn.neural_network import MLPRegressor\n",
        "\n",
        "your_grids_location =  '/content/drive/MyDrive/Zelda/Grids'\n",
        "\n",
        "\n",
        "Lya.funcs.Data_location = your_grids_location\n",
        "\n",
        "Geometry = 'Thin_Shell_Cont'\n",
        "\n",
        "DATA_LyaRT = Lya.load_Grid_Line( Geometry, MODE='LIGHT' )"
      ],
      "metadata": {
        "id": "tlQt-MZThrFi"
      },
      "execution_count": null,
      "outputs": []
    },
    {
      "cell_type": "code",
      "source": [],
      "metadata": {
        "id": "qsI6CVdEmzT0"
      },
      "execution_count": null,
      "outputs": []
    }
  ]
}